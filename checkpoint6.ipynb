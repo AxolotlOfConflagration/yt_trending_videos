{
 "cells": [
  {
   "cell_type": "code",
   "execution_count": 73,
   "metadata": {},
   "outputs": [],
   "source": [
    "import Orange\n",
    "import pickle\n",
    "import warnings\n",
    "import numpy as np\n",
    "import pandas as pd\n",
    "import seaborn as sns\n",
    "import matplotlib.pyplot as plt\n",
    "from copy import deepcopy\n",
    "\n",
    "# from wand.image import Image\n",
    "from tqdm.notebook import tqdm\n",
    "from sklearn.linear_model import LogisticRegression\n",
    "from sklearn.model_selection import train_test_split, RandomizedSearchCV, StratifiedKFold\n",
    "from imblearn.metrics import geometric_mean_score\n",
    "\n",
    "from sklearn.preprocessing import RobustScaler\n",
    "from sklearn.compose import ColumnTransformer\n",
    "from sklearn.pipeline import Pipeline\n",
    "from lightgbm import LGBMClassifier\n",
    "\n",
    "from tensorflow.keras import layers\n",
    "from tensorflow.keras import models\n",
    "from tensorflow.keras import optimizers\n",
    "from scikeras.wrappers import KerasClassifier\n",
    "import tensorflow as tf\n",
    "\n",
    "from sklearn.metrics import accuracy_score, balanced_accuracy_score, roc_auc_score, confusion_matrix, ConfusionMatrixDisplay, \\\n",
    "    make_scorer, roc_curve\n",
    "\n",
    "def load_pickle(path):\n",
    "    print(\"Loading from:\", path)\n",
    "    with open(path, 'rb') as fh:\n",
    "        return pickle.load(fh)\n",
    "\n",
    "def save_pickle(obj, path):\n",
    "    print(\"Saving to:\", path)\n",
    "    with open(path, 'wb') as fh:\n",
    "        return pickle.dump(obj, fh)\n",
    "\n",
    "warnings.filterwarnings('ignore')"
   ]
  },
  {
   "cell_type": "code",
   "execution_count": 2,
   "metadata": {},
   "outputs": [],
   "source": [
    "RANDOM_STATE = 1337"
   ]
  },
  {
   "cell_type": "markdown",
   "metadata": {},
   "source": [
    "## Read data"
   ]
  },
  {
   "cell_type": "code",
   "execution_count": 3,
   "metadata": {},
   "outputs": [
    {
     "name": "stdout",
     "output_type": "stream",
     "text": [
      "<class 'pandas.core.frame.DataFrame'>\n",
      "Index: 27851 entries, enViXiw9hME to 4YFo4bdMO8Q\n",
      "Columns: 132 entries, views to trending\n",
      "dtypes: float32(1), float64(32), int64(32), int8(51), uint8(16)\n",
      "memory usage: 15.7+ MB\n",
      "None\n"
     ]
    },
    {
     "data": {
      "text/html": [
       "<div>\n",
       "<style scoped>\n",
       "    .dataframe tbody tr th:only-of-type {\n",
       "        vertical-align: middle;\n",
       "    }\n",
       "\n",
       "    .dataframe tbody tr th {\n",
       "        vertical-align: top;\n",
       "    }\n",
       "\n",
       "    .dataframe thead th {\n",
       "        text-align: right;\n",
       "    }\n",
       "</style>\n",
       "<table border=\"1\" class=\"dataframe\">\n",
       "  <thead>\n",
       "    <tr style=\"text-align: right;\">\n",
       "      <th></th>\n",
       "      <th>views</th>\n",
       "      <th>likes</th>\n",
       "      <th>dislikes</th>\n",
       "      <th>comment_count</th>\n",
       "      <th>publish_time_day</th>\n",
       "      <th>publish_time_month</th>\n",
       "      <th>publish_time_year</th>\n",
       "      <th>publish_time_weekday</th>\n",
       "      <th>publish_time_quarter</th>\n",
       "      <th>publish_time_hour</th>\n",
       "      <th>...</th>\n",
       "      <th>category_id_Music</th>\n",
       "      <th>category_id_News &amp; Politics</th>\n",
       "      <th>category_id_Nonprofits &amp; Activism</th>\n",
       "      <th>category_id_People &amp; Blogs</th>\n",
       "      <th>category_id_Pets &amp; Animals</th>\n",
       "      <th>category_id_Science &amp; Technology</th>\n",
       "      <th>category_id_Shows</th>\n",
       "      <th>category_id_Sports</th>\n",
       "      <th>category_id_Travel &amp; Events</th>\n",
       "      <th>trending</th>\n",
       "    </tr>\n",
       "    <tr>\n",
       "      <th>video_id</th>\n",
       "      <th></th>\n",
       "      <th></th>\n",
       "      <th></th>\n",
       "      <th></th>\n",
       "      <th></th>\n",
       "      <th></th>\n",
       "      <th></th>\n",
       "      <th></th>\n",
       "      <th></th>\n",
       "      <th></th>\n",
       "      <th></th>\n",
       "      <th></th>\n",
       "      <th></th>\n",
       "      <th></th>\n",
       "      <th></th>\n",
       "      <th></th>\n",
       "      <th></th>\n",
       "      <th></th>\n",
       "      <th></th>\n",
       "      <th></th>\n",
       "      <th></th>\n",
       "    </tr>\n",
       "  </thead>\n",
       "  <tbody>\n",
       "    <tr>\n",
       "      <th>enViXiw9hME</th>\n",
       "      <td>3312536.0</td>\n",
       "      <td>25422.0</td>\n",
       "      <td>18133.0</td>\n",
       "      <td>16934.0</td>\n",
       "      <td>16</td>\n",
       "      <td>10</td>\n",
       "      <td>2016</td>\n",
       "      <td>6</td>\n",
       "      <td>4</td>\n",
       "      <td>0</td>\n",
       "      <td>...</td>\n",
       "      <td>0</td>\n",
       "      <td>0</td>\n",
       "      <td>0</td>\n",
       "      <td>0</td>\n",
       "      <td>0</td>\n",
       "      <td>0</td>\n",
       "      <td>0</td>\n",
       "      <td>0</td>\n",
       "      <td>0</td>\n",
       "      <td>0</td>\n",
       "    </tr>\n",
       "    <tr>\n",
       "      <th>9buDC32fKw0</th>\n",
       "      <td>2116750.0</td>\n",
       "      <td>24696.0</td>\n",
       "      <td>1728.0</td>\n",
       "      <td>2538.0</td>\n",
       "      <td>22</td>\n",
       "      <td>9</td>\n",
       "      <td>2017</td>\n",
       "      <td>4</td>\n",
       "      <td>3</td>\n",
       "      <td>13</td>\n",
       "      <td>...</td>\n",
       "      <td>0</td>\n",
       "      <td>0</td>\n",
       "      <td>1</td>\n",
       "      <td>0</td>\n",
       "      <td>0</td>\n",
       "      <td>0</td>\n",
       "      <td>0</td>\n",
       "      <td>0</td>\n",
       "      <td>0</td>\n",
       "      <td>0</td>\n",
       "    </tr>\n",
       "  </tbody>\n",
       "</table>\n",
       "<p>2 rows × 132 columns</p>\n",
       "</div>"
      ],
      "text/plain": [
       "                 views    likes  dislikes  comment_count  publish_time_day  \\\n",
       "video_id                                                                     \n",
       "enViXiw9hME  3312536.0  25422.0   18133.0        16934.0                16   \n",
       "9buDC32fKw0  2116750.0  24696.0    1728.0         2538.0                22   \n",
       "\n",
       "             publish_time_month  publish_time_year  publish_time_weekday  \\\n",
       "video_id                                                                   \n",
       "enViXiw9hME                  10               2016                     6   \n",
       "9buDC32fKw0                   9               2017                     4   \n",
       "\n",
       "             publish_time_quarter  publish_time_hour  ...  category_id_Music  \\\n",
       "video_id                                              ...                      \n",
       "enViXiw9hME                     4                  0  ...                  0   \n",
       "9buDC32fKw0                     3                 13  ...                  0   \n",
       "\n",
       "             category_id_News & Politics  category_id_Nonprofits & Activism  \\\n",
       "video_id                                                                      \n",
       "enViXiw9hME                            0                                  0   \n",
       "9buDC32fKw0                            0                                  1   \n",
       "\n",
       "             category_id_People & Blogs  category_id_Pets & Animals  \\\n",
       "video_id                                                              \n",
       "enViXiw9hME                           0                           0   \n",
       "9buDC32fKw0                           0                           0   \n",
       "\n",
       "             category_id_Science & Technology  category_id_Shows  \\\n",
       "video_id                                                           \n",
       "enViXiw9hME                                 0                  0   \n",
       "9buDC32fKw0                                 0                  0   \n",
       "\n",
       "             category_id_Sports  category_id_Travel & Events  trending  \n",
       "video_id                                                                \n",
       "enViXiw9hME                   0                            0         0  \n",
       "9buDC32fKw0                   0                            0         0  \n",
       "\n",
       "[2 rows x 132 columns]"
      ]
     },
     "execution_count": 3,
     "metadata": {},
     "output_type": "execute_result"
    }
   ],
   "source": [
    "df = pd.read_pickle(\"data/chkp5_final_new_final.pkl\")\n",
    "print(df.info())\n",
    "df.head(2)"
   ]
  },
  {
   "cell_type": "code",
   "execution_count": 4,
   "metadata": {},
   "outputs": [
    {
     "data": {
      "text/plain": [
       "<AxesSubplot:xlabel='count', ylabel='trending'>"
      ]
     },
     "execution_count": 4,
     "metadata": {},
     "output_type": "execute_result"
    },
    {
     "data": {
      "image/png": "[encoded data removed]",
      "text/plain": [
       "<Figure size 432x288 with 1 Axes>"
      ]
     },
     "metadata": {
      "needs_background": "light"
     },
     "output_type": "display_data"
    }
   ],
   "source": [
    "sns.countplot(data=df, y=\"trending\")"
   ]
  },
  {
   "cell_type": "markdown",
   "metadata": {},
   "source": [
    "## Indukcja reguł\n",
    "Wykorzystany został algorytm *CN2* (Clark and Niblett; 1988) z biblioteki Orange. "
   ]
  },
  {
   "cell_type": "code",
   "execution_count": 5,
   "metadata": {},
   "outputs": [
    {
     "data": {
      "text/plain": [
       "[[Entertainment, 3312536.0, 25422.0, 18133.0, 16934.0, ... | 0],\n",
       " [Nonprofits & Activism, 2116750.0, 24696.0, 1728.0, 2538.0, ... | 0],\n",
       " [Comedy, 23767254.0, 591025.0, 5089.0, 57607.0, ... | 0],\n",
       " [Music, 38469533.0, 569780.0, 3378.0, 20580.0, ... | 0],\n",
       " [Howto & Style, 1981522.0, 13517.0, 4649.0, 2321.0, ... | 0],\n",
       " ...\n",
       "]"
      ]
     },
     "execution_count": 5,
     "metadata": {},
     "output_type": "execute_result"
    }
   ],
   "source": [
    "df_rules = Orange.data.Table(\"data/chkp5.csv\")\n",
    "df_rules"
   ]
  },
  {
   "cell_type": "code",
   "execution_count": 6,
   "metadata": {},
   "outputs": [
    {
     "name": "stdout",
     "output_type": "stream",
     "text": [
      "Loading from: data/chkp6/cn2.pkl\n"
     ]
    }
   ],
   "source": [
    "cn2_learner = Orange.classification.rules.CN2Learner()\n",
    "\n",
    "cn2_learner.rule_finder.search_algorithm.beam_width = 10\n",
    "cn2_learner.rule_finder.search_strategy.constrain_continuous = True # ograniczenie przestrzeni  dla wartości ciągłych\n",
    "cn2_learner.rule_finder.general_validator.min_covered_examples = 100 # znalezione reguły muszą pokrywać conajmniej 100 przykładów\n",
    "cn2_learner.rule_finder.general_validator.max_rule_length = 3 # znalezione reguły moą mieć maksymalnie 3 człony\n",
    "\n",
    "# classifier = cn2_learner(df_rules)\n",
    "# save_pickle(classifier, \"data/chkp6/cn2.pkl\")\n",
    "classifier = load_pickle(\"data/chkp6/cn2.pkl\")"
   ]
  },
  {
   "cell_type": "code",
   "execution_count": 7,
   "metadata": {
    "tags": []
   },
   "outputs": [],
   "source": [
    "trending = []\n",
    "not_trending = []\n",
    "for rule in classifier.rule_list:\n",
    "    if rule.probabilities[0] > rule.probabilities[1]:\n",
    "        not_trending.append((str(rule), np.sum(rule.covered_examples)))\n",
    "    else:\n",
    "        trending.append((str(rule), np.sum(rule.covered_examples)))\n",
    "\n",
    "trending = sorted(trending, key=lambda tup: tup[1])[:10]\n",
    "not_trending = sorted(not_trending, key=lambda tup: tup[1])[:10]"
   ]
  },
  {
   "cell_type": "markdown",
   "metadata": {},
   "source": [
    "## Reguły dla trending\n",
    "\n",
    "Posortowane według coverage"
   ]
  },
  {
   "cell_type": "code",
   "execution_count": 8,
   "metadata": {},
   "outputs": [
    {
     "name": "stdout",
     "output_type": "stream",
     "text": [
      "IF description_url_ratio>=0.2535211267605634 AND comment_count>=1141.0 AND description_word_count>=13.0 THEN trending=1 \n",
      "IF reactions_to_views_ratio>=0.06894651318705045 AND description_information_ratio>=0.7838899803536346 AND title_word_count>=6.0 THEN trending=1 \n",
      "IF like_to_views_ratio>=0.04849814889156519 AND category_id==Entertainment AND publish_time_month<=3.0 THEN trending=1 \n",
      "IF like_to_views_ratio<=0.001972817615788336 AND median_red<=189.0 AND title_letter_count<=56.0 THEN trending=1 \n",
      "IF publish_time_year>=2018.0 AND description_len<=171.0 AND description_letter_count>=104.0 THEN trending=1 \n",
      "IF title_information_ratio<=0.6811594202898551 AND dislike_to_views_ratio>=0.0005470199305522523 AND views>=37098.0 THEN trending=1 \n",
      "IF publish_time_year>=2018.0 AND iqr_blue>=51.0 AND shouting_ratio_title<=0.24324324324324326 THEN trending=1 \n",
      "IF like_to_views_ratio>=0.0695906659342613 AND category_id!=People & Blogs AND shouting_ratio_title>=0.15384615384615385 THEN trending=1 \n",
      "IF publish_time_year>=2018.0 AND mean_blue<=36.37940393518519 AND channel_title_hash>=-50098545000.0 THEN trending=1 \n",
      "IF reactions_to_views_ratio>=0.08338644766130421 AND category_id==Music AND likes>=5497.0 THEN trending=1 \n"
     ]
    }
   ],
   "source": [
    "for i in trending:\n",
    "    print(i[0])"
   ]
  },
  {
   "cell_type": "markdown",
   "metadata": {},
   "source": [
    "## Reguły dla nie trending"
   ]
  },
  {
   "cell_type": "code",
   "execution_count": 9,
   "metadata": {},
   "outputs": [
    {
     "name": "stdout",
     "output_type": "stream",
     "text": [
      "IF dislike_to_views_ratio<=0.00025817555938037863 AND has_music!=0 AND dislikes>=133.0 THEN trending=0 \n",
      "IF dislike_to_views_ratio<=0.00020895010271547156 AND count_happy>=1.0 AND shouting_ratio_description>=0.11428571428571428 THEN trending=0 \n",
      "IF dislike_to_views_ratio<=0.00048062385613113713 AND has_vlog!=0 AND dislike_to_reactions_ratio>=0.007604930092611762 THEN trending=0 \n",
      "IF dislike_to_views_ratio<=0.00029601291708846063 AND shouting_ratio_description>=0.1941747572815534 AND description_punctuation_count>=2.0 THEN trending=0 \n",
      "IF comment_count<=41.0 AND description_information_ratio<=0.7568807339449541 AND like_to_reactions_ratio>=0.9584877687175686 THEN trending=0 \n",
      "IF category_id==Education AND like_to_views_ratio<=0.028763051614857787 AND dislike_to_views_ratio<=0.000707818444568968 THEN trending=0 \n",
      "IF reactions<=1933.0 AND shouting_ratio_channel_title<=0.11538461538461539 AND publish_time_month<=9.0 THEN trending=0 \n",
      "IF has_game!=0 AND description_len>=451.0 AND description_url_ratio>=0.03271028037383177 THEN trending=0 \n",
      "IF description_attention_ratio>=0.013761467889908258 AND dislike_to_views_ratio<=0.0006841795323612925 AND publish_time_year>=2017.0 THEN trending=0 \n",
      "IF like_to_reactions_ratio>=0.9860182370820668 AND median_blue>=46.0 AND mean_blue<=99.42917824074074 THEN trending=0 \n"
     ]
    }
   ],
   "source": [
    "for i in not_trending:\n",
    "    print(i[0])"
   ]
  },
  {
   "cell_type": "markdown",
   "metadata": {},
   "source": [
    "## Train, Validation, Test Split"
   ]
  },
  {
   "cell_type": "code",
   "execution_count": 10,
   "metadata": {},
   "outputs": [],
   "source": [
    "X, y = df.drop('trending',1), df['trending']"
   ]
  },
  {
   "cell_type": "code",
   "execution_count": 11,
   "metadata": {},
   "outputs": [],
   "source": [
    "# 0.1 - test, ~0.135 - val, ~0.76 - train \n",
    "X_train, X_test, y_train, y_test = train_test_split(X, y, test_size=0.1, stratify=y, random_state=RANDOM_STATE)\n",
    "X_train, X_val, y_train, y_val = train_test_split(X_train, y_train, test_size=0.15, stratify=y_train, random_state=RANDOM_STATE)"
   ]
  },
  {
   "cell_type": "code",
   "execution_count": 12,
   "metadata": {},
   "outputs": [
    {
     "name": "stdout",
     "output_type": "stream",
     "text": [
      "0    0.691058\n",
      "1    0.308942\n",
      "Name: trending, dtype: float64\n",
      "0    0.690957\n",
      "1    0.309043\n",
      "Name: trending, dtype: float64\n",
      "0    0.690955\n",
      "1    0.309045\n",
      "Name: trending, dtype: float64\n"
     ]
    }
   ],
   "source": [
    "print(y_train.value_counts(normalize=True))\n",
    "print(y_val.value_counts(normalize=True))\n",
    "print(y_test.value_counts(normalize=True))"
   ]
  },
  {
   "cell_type": "markdown",
   "metadata": {},
   "source": [
    "## Training"
   ]
  },
  {
   "cell_type": "code",
   "execution_count": 13,
   "metadata": {},
   "outputs": [],
   "source": [
    "not_scalable_patterns = ['ratio', '_object', 'has_', 'category_id']\n",
    "\n",
    "scalable = [c for c in X.columns if all([not(pattern in c) for pattern in not_scalable_patterns])]\n",
    "not_scalable = [c for c in X.columns if c not in scalable]\n",
    "\n",
    "scalable_idx = np.argwhere(X.columns.isin(scalable)).ravel()\n",
    "\n",
    "def column_scaler():\n",
    "    return ColumnTransformer([('roboust_scaler', RobustScaler(quantile_range=(5,95)), scalable_idx)], remainder='passthrough')"
   ]
  },
  {
   "cell_type": "code",
   "execution_count": 61,
   "metadata": {},
   "outputs": [],
   "source": [
    "def create_deep_model(nodes: str, output_bias: float, l2_reg: float):\n",
    "    model = models.Sequential()\n",
    "    \n",
    "    if nodes is None:\n",
    "        nodes = [100]\n",
    "    else:\n",
    "        nodes = list(map(int, nodes.split(',')))\n",
    "    \n",
    "    model.add(layers.Input((131,)))\n",
    "    for unit in nodes:\n",
    "        model.add(layers.Dense(unit, kernel_initializer='he_uniform',\n",
    "                               kernel_regularizer=tf.keras.regularizers.l2(l2_reg),\n",
    "                               bias_regularizer=tf.keras.regularizers.l2(l2_reg),\n",
    "                               activity_regularizer=tf.keras.regularizers.l2(l2_reg)))\n",
    "        model.add(layers.BatchNormalization())\n",
    "        model.add(layers.LeakyReLU())\n",
    "\n",
    "    # Use bias for imbalance dataset, better initial guess\n",
    "    output_initializer = tf.keras.initializers.Constant(value=output_bias)\n",
    "    model.add(layers.Dense(1, activation='sigmoid', bias_initializer=output_initializer))\n",
    "    return model"
   ]
  },
  {
   "cell_type": "markdown",
   "metadata": {},
   "source": [
    "### Defnicja regresji logistycznej nerunowej"
   ]
  },
  {
   "cell_type": "code",
   "execution_count": 67,
   "metadata": {},
   "outputs": [],
   "source": [
    "lr_hparams = {\n",
    "    'model__tol': np.linspace(1e-5, 1e-2, num=5),\n",
    "    'model__C': np.linspace(0.5, 5, num=10),\n",
    "    'model__class_weight': [None, 'balanced'],\n",
    "    'model__max_iter': np.linspace(20, 500, num=13)\n",
    "}\n",
    "\n",
    "lr_model = Pipeline([\n",
    "    ('cs', column_scaler()),\n",
    "    ('model', LogisticRegression(random_state=RANDOM_STATE))\n",
    "])"
   ]
  },
  {
   "cell_type": "markdown",
   "metadata": {},
   "source": [
    "### Defnicja sieci nerunowej"
   ]
  },
  {
   "cell_type": "code",
   "execution_count": 68,
   "metadata": {},
   "outputs": [
    {
     "name": "stdout",
     "output_type": "stream",
     "text": [
      "Liczba filmów w zbiorze treningowym: trending=6582, nietrending=14723\n",
      "Optimal initial bias -0.80507\n",
      "Optimal class weights {0: 0.7235278136249406, 1: 1.6184290489213005}\n"
     ]
    }
   ],
   "source": [
    "neg, pos = np.bincount(y_train)\n",
    "total = neg + pos\n",
    "print(f\"Liczba filmów w zbiorze treningowym: trending={pos}, nietrending={neg}\")\n",
    "\n",
    "initial_bias = float(np.log([pos/neg])[0])\n",
    "print(f\"Optimal initial bias {initial_bias:0.5f}\")\n",
    "\n",
    "weight_for_0 = (1 / neg) * (total / 2.0)\n",
    "weight_for_1 = (1 / pos) * (total / 2.0)\n",
    "\n",
    "class_weight = {0: float(weight_for_0), 1: float(weight_for_1)}\n",
    "print(f\"Optimal class weights {class_weight}\")\n",
    "\n",
    "nn_hparams = {\n",
    "    'nn__epochs': [5], #(50, 100, 150),\n",
    "    'nn__fit__class_weight': [class_weight, None, {0: 1-float(neg/total), 1: 1-float(pos/total)}],\n",
    "    'nn__optimizer__lr': [0.001, 0.0005, 0.0001, 0.00005, 0.00001],\n",
    "    'nn__model__nodes': ['100,100', '100,100,100', '200,100', '200,200', '200,100,50'],\n",
    "    'nn__model__l2_reg': [0.001, 0.0005, 0.0001, 0.00005, 0.00001],\n",
    "    'nn__model__output_bias': [0.0, initial_bias]\n",
    "}\n",
    "\n",
    "nn_model = Pipeline([\n",
    "    ('cs', column_scaler()),\n",
    "    ('nn', KerasClassifier(model=create_deep_model, \n",
    "                           verbose=0, \n",
    "                           loss='binary_crossentropy', \n",
    "                           optimizer=\"adam\"))\n",
    "])"
   ]
  },
  {
   "cell_type": "markdown",
   "metadata": {},
   "source": [
    "### Definicja LightGBM"
   ]
  },
  {
   "cell_type": "code",
   "execution_count": 76,
   "metadata": {},
   "outputs": [],
   "source": [
    "lgbm_hparams = {\n",
    "    'model__max_depth': (-1, 1, 3, 5, 7),\n",
    "    'model__learning_rate': (0.5, 0.1, 0.05, 0.01, 0.001)\n",
    "}\n",
    "\n",
    "lgbm_model = Pipeline([\n",
    "    ('cs', column_scaler()),\n",
    "    ('model', LGBMClassifier())\n",
    "])"
   ]
  },
  {
   "cell_type": "code",
   "execution_count": 77,
   "metadata": {},
   "outputs": [],
   "source": [
    "algo = [\n",
    "    ('lr', lr_model),\n",
    "    ('nn', nn_model),\n",
    "    ('lightgbm', lgbm_model)\n",
    "]\n",
    "# Define hyperparameter searches\n",
    "hprams = [\n",
    "    lr_hparams,\n",
    "    nn_hparams,\n",
    "    lgbm_hparams\n",
    "]"
   ]
  },
  {
   "cell_type": "code",
   "execution_count": 78,
   "metadata": {
    "tags": []
   },
   "outputs": [
    {
     "data": {
      "application/vnd.jupyter.widget-view+json": {
       "model_id": "73a8ccd6ac7e4b288cd048e7a6c13f9f",
       "version_major": 2,
       "version_minor": 0
      },
      "text/plain": [
       "  0%|          | 0/3 [00:00<?, ?it/s]"
      ]
     },
     "metadata": {},
     "output_type": "display_data"
    },
    {
     "data": {
      "image/png": "[encoded data removed]",
      "text/plain": [
       "<Figure size 432x288 with 2 Axes>"
      ]
     },
     "metadata": {
      "needs_background": "light"
     },
     "output_type": "display_data"
    },
    {
     "data": {
      "image/png": "[encoded data removed]",
      "text/plain": [
       "<Figure size 432x288 with 1 Axes>"
      ]
     },
     "metadata": {
      "needs_background": "light"
     },
     "output_type": "display_data"
    },
    {
     "name": "stdout",
     "output_type": "stream",
     "text": [
      "Saving to: data/chkp6/rscv_lr.pkl\n"
     ]
    },
    {
     "data": {
      "image/png": "[encoded data removed]",
      "text/plain": [
       "<Figure size 432x288 with 2 Axes>"
      ]
     },
     "metadata": {
      "needs_background": "light"
     },
     "output_type": "display_data"
    },
    {
     "data": {
      "image/png": "[encoded data removed]",
      "text/plain": [
       "<Figure size 432x288 with 1 Axes>"
      ]
     },
     "metadata": {
      "needs_background": "light"
     },
     "output_type": "display_data"
    },
    {
     "name": "stdout",
     "output_type": "stream",
     "text": [
      "Saving to: data/chkp6/rscv_nn.pkl\n",
      "INFO:tensorflow:Assets written to: ram:///tmp/tmp4qwna2_j/assets\n"
     ]
    },
    {
     "data": {
      "image/png": "[encoded data removed]",
      "text/plain": [
       "<Figure size 432x288 with 2 Axes>"
      ]
     },
     "metadata": {
      "needs_background": "light"
     },
     "output_type": "display_data"
    },
    {
     "data": {
      "image/png": "[encoded data removed]",
      "text/plain": [
       "<Figure size 432x288 with 1 Axes>"
      ]
     },
     "metadata": {
      "needs_background": "light"
     },
     "output_type": "display_data"
    },
    {
     "name": "stdout",
     "output_type": "stream",
     "text": [
      "Saving to: data/chkp6/rscv_lightgbm.pkl\n"
     ]
    }
   ],
   "source": [
    "df_results = pd.DataFrame(columns=[\n",
    "    'algorithm',\n",
    "    'best_params',\n",
    "    'algorithm_path',\n",
    "    'val_accuracy',\n",
    "    'val_balanced_accuracy',\n",
    "    'val_roc_auc',\n",
    "    'val_gmean',\n",
    "    'test_accuracy',\n",
    "    'test_balanced_accuracy',\n",
    "    'test_roc_auc',\n",
    "    'test_gmean',\n",
    "    'cm_path',\n",
    "    'roc_path'\n",
    "])\n",
    "\n",
    "for (a_name, a), h in tqdm(zip(algo, hprams), total=len(algo)):\n",
    "    clf = RandomizedSearchCV(a, h,\n",
    "            n_iter=2, # parameters to search \n",
    "            cv=StratifiedKFold(n_splits=10),\n",
    "            scoring={\n",
    "                'accuracy': make_scorer(accuracy_score),\n",
    "                'bacc': make_scorer(balanced_accuracy_score),\n",
    "                'auroc': make_scorer(roc_auc_score),\n",
    "                'gmean': make_scorer(geometric_mean_score)},\n",
    "            refit='gmean',\n",
    "            random_state=RANDOM_STATE)\n",
    "    # Train\n",
    "    clf.fit(X_train, y_train)\n",
    "    \n",
    "    # Threshold setup - validation data to estimate threshold\n",
    "    fpr, tpr, thresholds = roc_curve(y_val, clf.predict_proba(X_val)[:, 1])\n",
    "    gmeans = np.sqrt(tpr * (1-fpr))\n",
    "    THRESHOLD = thresholds[np.argmax(gmeans)]\n",
    "    # applying to test data\n",
    "    y_pred_prob = clf.predict_proba(X_test)[:, 1]\n",
    "    y_pred = np.where(y_pred_prob > THRESHOLD, 1, 0)\n",
    "    # Calculating confusion matrix\n",
    "    cm_path = f'data/chkp6/cm_{a_name}.pdf'\n",
    "    cm = confusion_matrix(y_test, y_pred)\n",
    "    f1, ax1 = plt.subplots()\n",
    "    disp = ConfusionMatrixDisplay(confusion_matrix=cm, display_labels = [0, 1])\n",
    "    disp.plot(ax=ax1)\n",
    "    f1.savefig(cm_path, bbox_inches='tight')\n",
    "    # Calculating ROC\n",
    "    roc_path = f'data/chkp6/roc_{a_name}.pdf'\n",
    "    f = plt.figure()\n",
    "    fpr, tpr, thresholds = roc_curve(y_test, y_pred_prob)\n",
    "    plt.plot([0,1], [0,1], linestyle='--', label='No Skill')\n",
    "    plt.plot(fpr, tpr, marker='.', label=a_name)\n",
    "    plt.xlabel('False Positive Rate')\n",
    "    plt.ylabel('True Positive Rate')\n",
    "    plt.legend()\n",
    "    plt.show()\n",
    "    f.savefig(roc_path, bbox_inches='tight')\n",
    "    # Save RandomSearch results\n",
    "    algo_path = f'data/chkp6/rscv_{a_name}.pkl'\n",
    "    try:\n",
    "        save_pickle(clf, algo_path)\n",
    "    except:\n",
    "        save_pickle(clf.best_estimator_[0], f'data/chkp6/rscv_{a_name}_scaler.pkl')\n",
    "        keras_model = clf.best_estimator_[-1].model\n",
    "        keras_model.save(f'data/chkp6/rscv_{a_name}_model.h5')\n",
    "        \n",
    "    # Predictions\n",
    "    y_pred_prob_val = clf.predict_proba(X_val)[:, 1]\n",
    "    y_pred_val = np.where(y_pred_prob_val > THRESHOLD, 1, 0)\n",
    "    y_pred_prob_test = clf.predict_proba(X_test)[:, 1]\n",
    "    y_pred_test = np.where(y_pred_prob_test > THRESHOLD, 1, 0)\n",
    "    # Appending results\n",
    "    df_results = pd.concat([\n",
    "        df_results,\n",
    "        pd.DataFrame([[\n",
    "            a_name,\n",
    "            clf.best_params_,\n",
    "            algo_path,\n",
    "            accuracy_score(y_val, y_pred_val),\n",
    "            balanced_accuracy_score(y_val, y_pred_val),\n",
    "            roc_auc_score(y_val, y_pred_prob_val),\n",
    "            geometric_mean_score(y_val, y_pred_val),\n",
    "            accuracy_score(y_test, y_pred_test),\n",
    "            balanced_accuracy_score(y_test, y_pred_test),\n",
    "            roc_auc_score(y_test, y_pred_prob_test),\n",
    "            geometric_mean_score(y_test, y_pred_test),\n",
    "            cm_path, roc_path\n",
    "        ]], columns=df_results.columns)\n",
    "    ], ignore_index=True)"
   ]
  },
  {
   "cell_type": "code",
   "execution_count": 79,
   "metadata": {},
   "outputs": [
    {
     "data": {
      "text/html": [
       "<div>\n",
       "<style scoped>\n",
       "    .dataframe tbody tr th:only-of-type {\n",
       "        vertical-align: middle;\n",
       "    }\n",
       "\n",
       "    .dataframe tbody tr th {\n",
       "        vertical-align: top;\n",
       "    }\n",
       "\n",
       "    .dataframe thead th {\n",
       "        text-align: right;\n",
       "    }\n",
       "</style>\n",
       "<table border=\"1\" class=\"dataframe\">\n",
       "  <thead>\n",
       "    <tr style=\"text-align: right;\">\n",
       "      <th></th>\n",
       "      <th>algorithm</th>\n",
       "      <th>best_params</th>\n",
       "      <th>algorithm_path</th>\n",
       "      <th>val_accuracy</th>\n",
       "      <th>val_balanced_accuracy</th>\n",
       "      <th>val_roc_auc</th>\n",
       "      <th>val_gmean</th>\n",
       "      <th>test_accuracy</th>\n",
       "      <th>test_balanced_accuracy</th>\n",
       "      <th>test_roc_auc</th>\n",
       "      <th>test_gmean</th>\n",
       "      <th>cm_path</th>\n",
       "      <th>roc_path</th>\n",
       "    </tr>\n",
       "  </thead>\n",
       "  <tbody>\n",
       "    <tr>\n",
       "      <th>0</th>\n",
       "      <td>lr</td>\n",
       "      <td>{'model__tol': 0.01, 'model__max_iter': 460.0,...</td>\n",
       "      <td>data/chkp6/rscv_lr.pkl</td>\n",
       "      <td>0.771011</td>\n",
       "      <td>0.797669</td>\n",
       "      <td>0.872554</td>\n",
       "      <td>0.794609</td>\n",
       "      <td>0.781766</td>\n",
       "      <td>0.807091</td>\n",
       "      <td>0.885148</td>\n",
       "      <td>0.804362</td>\n",
       "      <td>data/chkp6/cm_lr.pdf</td>\n",
       "      <td>data/chkp6/roc_lr.pdf</td>\n",
       "    </tr>\n",
       "    <tr>\n",
       "      <th>1</th>\n",
       "      <td>nn</td>\n",
       "      <td>{'nn__optimizer__lr': 0.0005, 'nn__model__outp...</td>\n",
       "      <td>data/chkp6/rscv_nn.pkl</td>\n",
       "      <td>0.762766</td>\n",
       "      <td>0.790513</td>\n",
       "      <td>0.870071</td>\n",
       "      <td>0.787168</td>\n",
       "      <td>0.756640</td>\n",
       "      <td>0.785700</td>\n",
       "      <td>0.877561</td>\n",
       "      <td>0.782006</td>\n",
       "      <td>data/chkp6/cm_nn.pdf</td>\n",
       "      <td>data/chkp6/roc_nn.pdf</td>\n",
       "    </tr>\n",
       "    <tr>\n",
       "      <th>2</th>\n",
       "      <td>lightgbm</td>\n",
       "      <td>{'model__max_depth': 7, 'model__learning_rate'...</td>\n",
       "      <td>data/chkp6/rscv_lightgbm.pkl</td>\n",
       "      <td>0.891223</td>\n",
       "      <td>0.903448</td>\n",
       "      <td>0.961612</td>\n",
       "      <td>0.902881</td>\n",
       "      <td>0.883345</td>\n",
       "      <td>0.893758</td>\n",
       "      <td>0.958813</td>\n",
       "      <td>0.893342</td>\n",
       "      <td>data/chkp6/cm_lightgbm.pdf</td>\n",
       "      <td>data/chkp6/roc_lightgbm.pdf</td>\n",
       "    </tr>\n",
       "  </tbody>\n",
       "</table>\n",
       "</div>"
      ],
      "text/plain": [
       "  algorithm                                        best_params  \\\n",
       "0        lr  {'model__tol': 0.01, 'model__max_iter': 460.0,...   \n",
       "1        nn  {'nn__optimizer__lr': 0.0005, 'nn__model__outp...   \n",
       "2  lightgbm  {'model__max_depth': 7, 'model__learning_rate'...   \n",
       "\n",
       "                 algorithm_path  val_accuracy  val_balanced_accuracy  \\\n",
       "0        data/chkp6/rscv_lr.pkl      0.771011               0.797669   \n",
       "1        data/chkp6/rscv_nn.pkl      0.762766               0.790513   \n",
       "2  data/chkp6/rscv_lightgbm.pkl      0.891223               0.903448   \n",
       "\n",
       "   val_roc_auc  val_gmean  test_accuracy  test_balanced_accuracy  \\\n",
       "0     0.872554   0.794609       0.781766                0.807091   \n",
       "1     0.870071   0.787168       0.756640                0.785700   \n",
       "2     0.961612   0.902881       0.883345                0.893758   \n",
       "\n",
       "   test_roc_auc  test_gmean                     cm_path  \\\n",
       "0      0.885148    0.804362        data/chkp6/cm_lr.pdf   \n",
       "1      0.877561    0.782006        data/chkp6/cm_nn.pdf   \n",
       "2      0.958813    0.893342  data/chkp6/cm_lightgbm.pdf   \n",
       "\n",
       "                      roc_path  \n",
       "0        data/chkp6/roc_lr.pdf  \n",
       "1        data/chkp6/roc_nn.pdf  \n",
       "2  data/chkp6/roc_lightgbm.pdf  "
      ]
     },
     "execution_count": 79,
     "metadata": {},
     "output_type": "execute_result"
    }
   ],
   "source": [
    "df_results"
   ]
  },
  {
   "cell_type": "code",
   "execution_count": null,
   "metadata": {},
   "outputs": [],
   "source": [
    "# Reading plots example\n",
    "auroc_path = df_results['roc_path'].values[0]\n",
    "\n",
    "from IPython.display import IFrame\n",
    "IFrame(auroc_path, width=600, height=300)"
   ]
  },
  {
   "cell_type": "code",
   "execution_count": null,
   "metadata": {},
   "outputs": [],
   "source": [
    "!pip install scikit-learn==0.21.2"
   ]
  },
  {
   "cell_type": "code",
   "execution_count": null,
   "metadata": {},
   "outputs": [],
   "source": []
  }
 ],
 "metadata": {
  "kernelspec": {
   "display_name": "Python 3.8.5  ('venv': venv)",
   "language": "python",
   "name": "pythonjvsc74a57bd04737e655ced84519817d4d9d5a26f46d61f88b6b26db49e2afa3cac08abb8872"
  },
  "language_info": {
   "codemirror_mode": {
    "name": "ipython",
    "version": 3
   },
   "file_extension": ".py",
   "mimetype": "text/x-python",
   "name": "python",
   "nbconvert_exporter": "python",
   "pygments_lexer": "ipython3",
   "version": "3.8.5"
  }
 },
 "nbformat": 4,
 "nbformat_minor": 4
}
