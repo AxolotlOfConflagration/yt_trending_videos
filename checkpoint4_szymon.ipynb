{
 "metadata": {
  "language_info": {
   "codemirror_mode": {
    "name": "ipython",
    "version": 3
   },
   "file_extension": ".py",
   "mimetype": "text/x-python",
   "name": "python",
   "nbconvert_exporter": "python",
   "pygments_lexer": "ipython3",
   "version": "3.8.5"
  },
  "orig_nbformat": 2,
  "kernelspec": {
   "name": "python385jvsc74a57bd0fb12a8d5e2d8f15cd3e382e05f2d0116605107863d8728850bcbf28c3f063131",
   "display_name": "Python 3.8.5 64-bit ('venv')"
  },
  "metadata": {
   "interpreter": {
    "hash": "fb12a8d5e2d8f15cd3e382e05f2d0116605107863d8728850bcbf28c3f063131"
   }
  }
 },
 "nbformat": 4,
 "nbformat_minor": 2,
 "cells": [
  {
   "cell_type": "code",
   "execution_count": 31,
   "metadata": {},
   "outputs": [],
   "source": [
    "import pandas as pd\n",
    "import numpy as np\n",
    "\n",
    "from sklearn.svm import SVC\n",
    "from sklearn.semi_supervised import LabelSpreading\n",
    "from sklearn.semi_supervised import SelfTrainingClassifier\n",
    "\n",
    "from sklearn.metrics import accuracy_score, balanced_accuracy_score\n",
    "from sklearn.preprocessing import RobustScaler, StandardScaler\n",
    "from sklearn.ensemble import VotingClassifier"
   ]
  },
  {
   "cell_type": "code",
   "execution_count": 2,
   "metadata": {},
   "outputs": [],
   "source": [
    "df = pd.read_pickle('data/chkp3.pkl')\n",
    "df['category_id'] = df.category_id.astype(np.int16)\n",
    "mask = pd.read_pickle('data/known_unknown_mask.pkl')"
   ]
  },
  {
   "cell_type": "code",
   "execution_count": 3,
   "metadata": {},
   "outputs": [
    {
     "output_type": "execute_result",
     "data": {
      "text/plain": [
       "-1     5768\n",
       " 24     684\n",
       " 10     608\n",
       " 22     241\n",
       " 23     220\n",
       " 26     217\n",
       " 17     183\n",
       " 1      166\n",
       " 25     152\n",
       " 28     102\n",
       " 20      95\n",
       " 27      78\n",
       " 15      49\n",
       " 19      20\n",
       " 2       16\n",
       " 29       5\n",
       " 43       2\n",
       "Name: category_id, dtype: int64"
      ]
     },
     "metadata": {},
     "execution_count": 3
    }
   ],
   "source": [
    "unknown_df = df.copy()\n",
    "\n",
    "unknown_df.loc[~mask, 'category_id'] = -1\n",
    "unknown_df.category_id.value_counts(dropna=False)"
   ]
  },
  {
   "cell_type": "code",
   "execution_count": 4,
   "metadata": {},
   "outputs": [],
   "source": [
    "X_df = unknown_df.drop('category_id', axis=1)\n",
    "y_df = unknown_df['category_id']\n",
    "y_true_df = df.category_id"
   ]
  },
  {
   "cell_type": "code",
   "execution_count": 5,
   "metadata": {},
   "outputs": [],
   "source": [
    "rs = RobustScaler(quantile_range=(5.0, 95.0))\n",
    "rs.fit(X_df)\n",
    "X_df = rs.transform(X_df)"
   ]
  },
  {
   "cell_type": "code",
   "execution_count": 6,
   "metadata": {},
   "outputs": [
    {
     "output_type": "execute_result",
     "data": {
      "text/plain": [
       "(video_id\n",
       " 9wRQljFNDW8   -1\n",
       " Om_zGhJLZ5U   -1\n",
       " goP4Z5wyOlM   -1\n",
       " 8NHA23f7LvU   -1\n",
       " IE-xepGLVt8   -1\n",
       " Name: category_id, dtype: int16,\n",
       " video_id\n",
       " 9wRQljFNDW8    17\n",
       " Om_zGhJLZ5U     1\n",
       " goP4Z5wyOlM    25\n",
       " 8NHA23f7LvU    24\n",
       " IE-xepGLVt8    28\n",
       " Name: category_id, dtype: int16)"
      ]
     },
     "metadata": {},
     "execution_count": 6
    }
   ],
   "source": [
    "y_df.head(5), y_true_df.head(5)"
   ]
  },
  {
   "cell_type": "code",
   "execution_count": 7,
   "metadata": {},
   "outputs": [
    {
     "output_type": "stream",
     "name": "stdout",
     "text": [
      "Accuracy: 0.32976992795723914\n"
     ]
    }
   ],
   "source": [
    "# Initial acc\n",
    "print(f'Accuracy: {accuracy_score(y_true_df, y_df)}')\n",
    "# print(f'Balanced accuracy: {balanced_accuracy_score(y_true_df, y_df)}') - nie ma sensu bo różne klasy"
   ]
  },
  {
   "source": [
    "## Semi supervised learning"
   ],
   "cell_type": "markdown",
   "metadata": {}
  },
  {
   "cell_type": "code",
   "execution_count": 8,
   "metadata": {},
   "outputs": [
    {
     "output_type": "execute_result",
     "data": {
      "text/plain": [
       "LabelSpreading()"
      ]
     },
     "metadata": {},
     "execution_count": 8
    }
   ],
   "source": [
    "ls = LabelSpreading()\n",
    "ls.fit(X_df, y_df)"
   ]
  },
  {
   "cell_type": "code",
   "execution_count": 28,
   "metadata": {},
   "outputs": [
    {
     "output_type": "stream",
     "name": "stdout",
     "text": [
      "Accuracy: 0.6429235417150825\n",
      "Balanced accuracy: 0.5884771055367881\n",
      "/home/sleter/Documents/Github/yt_trending_videos/venv/lib/python3.8/site-packages/sklearn/semi_supervised/_label_propagation.py:205: RuntimeWarning: invalid value encountered in true_divide\n",
      "  probabilities /= normalizer\n"
     ]
    }
   ],
   "source": [
    "# y_pred_ls = ls.transduction_ # gives same result\n",
    "y_pred_ls = ls.predict(X_df)\n",
    "print(f'Accuracy: {accuracy_score(y_true_df, y_pred_ls)}')\n",
    "print(f'Balanced accuracy: {balanced_accuracy_score(y_true_df, y_pred_ls)}')"
   ]
  },
  {
   "source": [
    "#### Only on unknown data"
   ],
   "cell_type": "markdown",
   "metadata": {}
  },
  {
   "cell_type": "code",
   "execution_count": 11,
   "metadata": {},
   "outputs": [],
   "source": [
    "unknown_df['category_id_truth'] = df.category_id\n",
    "temp_df = unknown_df[unknown_df.category_id == -1]\n",
    "X, y = rs.transform(temp_df.drop(['category_id', 'category_id_truth'], axis=1)), temp_df.category_id_truth"
   ]
  },
  {
   "cell_type": "code",
   "execution_count": 12,
   "metadata": {},
   "outputs": [
    {
     "output_type": "stream",
     "name": "stdout",
     "text": [
      "Accuracy: 0.4672330097087379\n",
      "Balanced accuracy: 0.3678835128191864\n",
      "/home/sleter/Documents/Github/yt_trending_videos/venv/lib/python3.8/site-packages/sklearn/semi_supervised/_label_propagation.py:205: RuntimeWarning: invalid value encountered in true_divide\n",
      "  probabilities /= normalizer\n",
      "/home/sleter/Documents/Github/yt_trending_videos/venv/lib/python3.8/site-packages/sklearn/metrics/_classification.py:1850: UserWarning: y_pred contains classes not in y_true\n",
      "  warnings.warn('y_pred contains classes not in y_true')\n"
     ]
    }
   ],
   "source": [
    "y_pred = ls.predict(X)\n",
    "print(f'Accuracy: {accuracy_score(y, y_pred)}')\n",
    "print(f'Balanced accuracy: {balanced_accuracy_score(y, y_pred)}')"
   ]
  },
  {
   "source": [
    "## Self training clf"
   ],
   "cell_type": "markdown",
   "metadata": {}
  },
  {
   "cell_type": "code",
   "execution_count": 26,
   "metadata": {},
   "outputs": [
    {
     "output_type": "execute_result",
     "data": {
      "text/plain": [
       "SelfTrainingClassifier(base_estimator=SVC(gamma='auto', probability=True),\n",
       "                       max_iter=None)"
      ]
     },
     "metadata": {},
     "execution_count": 26
    }
   ],
   "source": [
    "svc = SVC(kernel='rbf', gamma=\"auto\", probability=True)\n",
    "stc = SelfTrainingClassifier(svc, max_iter=None)\n",
    "stc.fit(X_df, y_df)"
   ]
  },
  {
   "cell_type": "code",
   "execution_count": 27,
   "metadata": {},
   "outputs": [
    {
     "output_type": "stream",
     "name": "stdout",
     "text": [
      "Accuracy: 0.5844759470137114\nBalanced accuracy: 0.37009264788256313\n"
     ]
    }
   ],
   "source": [
    "y_pred_stc = stc.predict(X_df)\n",
    "print(f'Accuracy: {accuracy_score(y_true_df, y_pred_stc)}')\n",
    "print(f'Balanced accuracy: {balanced_accuracy_score(y_true_df, y_pred_stc)}')"
   ]
  },
  {
   "cell_type": "code",
   "execution_count": 29,
   "metadata": {},
   "outputs": [
    {
     "output_type": "execute_result",
     "data": {
      "text/plain": [
       "array([17, -1, -1, ..., 10, 24, 10], dtype=int16)"
      ]
     },
     "metadata": {},
     "execution_count": 29
    }
   ],
   "source": [
    "stc.transduction_"
   ]
  },
  {
   "source": [
    "## Voting clf"
   ],
   "cell_type": "markdown",
   "metadata": {}
  },
  {
   "cell_type": "code",
   "execution_count": 34,
   "metadata": {},
   "outputs": [
    {
     "output_type": "stream",
     "name": "stderr",
     "text": [
      "/home/sleter/Documents/Github/yt_trending_videos/venv/lib/python3.8/site-packages/sklearn/semi_supervised/_self_training.py:187: UserWarning: y contains no unlabeled samples\n  warnings.warn(\"y contains no unlabeled samples\", UserWarning)\n"
     ]
    },
    {
     "output_type": "execute_result",
     "data": {
      "text/plain": [
       "VotingClassifier(estimators=[('ls', LabelSpreading()),\n",
       "                             ('stc_svc',\n",
       "                              SelfTrainingClassifier(base_estimator=SVC(gamma='auto',\n",
       "                                                                        probability=True),\n",
       "                                                     max_iter=None))],\n",
       "                 weights=[2, 1])"
      ]
     },
     "metadata": {},
     "execution_count": 34
    }
   ],
   "source": [
    "vclf = VotingClassifier(estimators=[\n",
    "    ('ls', LabelSpreading()),\n",
    "    ('stc_svc', SelfTrainingClassifier(SVC(kernel='rbf', gamma=\"auto\", probability=True), max_iter=None))\n",
    "], voting='hard', weights = [2,1])\n",
    "\n",
    "vclf.fit(X_df, y_df)"
   ]
  },
  {
   "cell_type": "code",
   "execution_count": 35,
   "metadata": {},
   "outputs": [
    {
     "output_type": "stream",
     "name": "stdout",
     "text": [
      "Accuracy: 0.32976992795723914\n",
      "Balanced accuracy: 0.35394505374197893\n",
      "/home/sleter/Documents/Github/yt_trending_videos/venv/lib/python3.8/site-packages/sklearn/metrics/_classification.py:1850: UserWarning: y_pred contains classes not in y_true\n",
      "  warnings.warn('y_pred contains classes not in y_true')\n"
     ]
    }
   ],
   "source": [
    "y_pred = vclf.predict(X_df)\n",
    "print(f'Accuracy: {accuracy_score(y_true_df, y_pred)}')\n",
    "print(f'Balanced accuracy: {balanced_accuracy_score(y_true_df, y_pred)}')"
   ]
  },
  {
   "cell_type": "code",
   "execution_count": null,
   "metadata": {},
   "outputs": [],
   "source": []
  }
 ]
}