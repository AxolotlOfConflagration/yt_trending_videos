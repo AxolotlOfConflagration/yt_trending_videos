{
 "metadata": {
  "language_info": {
   "codemirror_mode": {
    "name": "ipython",
    "version": 3
   },
   "file_extension": ".py",
   "mimetype": "text/x-python",
   "name": "python",
   "nbconvert_exporter": "python",
   "pygments_lexer": "ipython3",
   "version": "3.8.0"
  },
  "orig_nbformat": 2,
  "kernelspec": {
   "name": "python380jvsc74a57bd0254aab90f67a2a1a8bf7d052690a7487fa77755aa0c4be95ab0b033dd481689e",
   "display_name": "Python 3.8.0 64-bit ('venv': venv)",
   "language": "python"
  },
  "metadata": {
   "interpreter": {
    "hash": "fb12a8d5e2d8f15cd3e382e05f2d0116605107863d8728850bcbf28c3f063131"
   }
  }
 },
 "nbformat": 4,
 "nbformat_minor": 2,
 "cells": [
  {
   "cell_type": "code",
   "execution_count": 60,
   "metadata": {},
   "outputs": [],
   "source": [
    "import pandas as pd\n",
    "import numpy as np\n",
    "\n",
    "from sklearn.svm import SVC\n",
    "from sklearn.semi_supervised import LabelSpreading\n",
    "from sklearn.semi_supervised import SelfTrainingClassifier\n",
    "\n",
    "from sklearn.metrics import accuracy_score, balanced_accuracy_score\n",
    "from sklearn.preprocessing import RobustScaler, StandardScaler\n",
    "from sklearn.ensemble import VotingClassifier\n",
    "from sklearn.linear_model import LogisticRegression\n",
    "from mlxtend.classifier import EnsembleVoteClassifier"
   ]
  },
  {
   "cell_type": "code",
   "execution_count": 2,
   "metadata": {},
   "outputs": [],
   "source": [
    "df = pd.read_pickle('data/chkp3.pkl')\n",
    "df['category_id'] = df.category_id.astype(np.int16)\n",
    "mask = pd.read_pickle('data/known_unknown_mask.pkl')"
   ]
  },
  {
   "cell_type": "code",
   "execution_count": 3,
   "metadata": {},
   "outputs": [
    {
     "output_type": "execute_result",
     "data": {
      "text/plain": [
       "-1     5768\n",
       " 24     684\n",
       " 10     608\n",
       " 22     241\n",
       " 23     220\n",
       " 26     217\n",
       " 17     183\n",
       " 1      166\n",
       " 25     152\n",
       " 28     102\n",
       " 20      95\n",
       " 27      78\n",
       " 15      49\n",
       " 19      20\n",
       " 2       16\n",
       " 29       5\n",
       " 43       2\n",
       "Name: category_id, dtype: int64"
      ]
     },
     "metadata": {},
     "execution_count": 3
    }
   ],
   "source": [
    "unknown_df = df.copy()\n",
    "\n",
    "unknown_df.loc[~mask, 'category_id'] = -1\n",
    "unknown_df.category_id.value_counts(dropna=False)"
   ]
  },
  {
   "cell_type": "code",
   "execution_count": 4,
   "metadata": {},
   "outputs": [],
   "source": [
    "X_df = unknown_df.drop('category_id', axis=1)\n",
    "y_df = unknown_df['category_id']\n",
    "y_true_df = df.category_id"
   ]
  },
  {
   "cell_type": "code",
   "execution_count": 5,
   "metadata": {},
   "outputs": [],
   "source": [
    "rs = RobustScaler(quantile_range=(5.0, 95.0))\n",
    "rs.fit(X_df)\n",
    "X_df = rs.transform(X_df)"
   ]
  },
  {
   "cell_type": "code",
   "execution_count": 6,
   "metadata": {},
   "outputs": [
    {
     "output_type": "execute_result",
     "data": {
      "text/plain": [
       "(video_id\n",
       " 9wRQljFNDW8   -1\n",
       " Om_zGhJLZ5U   -1\n",
       " goP4Z5wyOlM   -1\n",
       " 8NHA23f7LvU   -1\n",
       " IE-xepGLVt8   -1\n",
       " Name: category_id, dtype: int16,\n",
       " video_id\n",
       " 9wRQljFNDW8    17\n",
       " Om_zGhJLZ5U     1\n",
       " goP4Z5wyOlM    25\n",
       " 8NHA23f7LvU    24\n",
       " IE-xepGLVt8    28\n",
       " Name: category_id, dtype: int16)"
      ]
     },
     "metadata": {},
     "execution_count": 6
    }
   ],
   "source": [
    "y_df.head(5), y_true_df.head(5)"
   ]
  },
  {
   "cell_type": "code",
   "execution_count": 7,
   "metadata": {},
   "outputs": [
    {
     "output_type": "stream",
     "name": "stdout",
     "text": [
      "Accuracy: 0.32976992795723914\n"
     ]
    }
   ],
   "source": [
    "# Initial acc\n",
    "print(f'Accuracy: {accuracy_score(y_true_df, y_df)}')\n",
    "# print(f'Balanced accuracy: {balanced_accuracy_score(y_true_df, y_df)}') - nie ma sensu bo różne klasy"
   ]
  },
  {
   "cell_type": "code",
   "execution_count": 10,
   "metadata": {},
   "outputs": [
    {
     "output_type": "stream",
     "name": "stdout",
     "text": [
      "Accuracy: 0.0\n"
     ]
    }
   ],
   "source": [
    "unknown_df['category_id_truth'] = df.category_id\n",
    "temp_df = unknown_df[unknown_df.category_id == -1]\n",
    "X_unkwn, y_unkwn = rs.transform(temp_df.drop(['category_id', 'category_id_truth'], axis=1)), temp_df.category_id_truth\n",
    "\n",
    "print(f'Accuracy: {accuracy_score(temp_df.category_id, y_unkwn)}')"
   ]
  },
  {
   "source": [
    "## LR - baseline"
   ],
   "cell_type": "markdown",
   "metadata": {}
  },
  {
   "cell_type": "code",
   "execution_count": 56,
   "metadata": {},
   "outputs": [],
   "source": [
    "df_known = unknown_df[unknown_df.category_id != -1]\n",
    "X_kwn, y_kwn = rs.transform(df_known.drop(['category_id', 'category_id_truth'], axis=1)), df_known.category_id_truth"
   ]
  },
  {
   "cell_type": "code",
   "execution_count": 59,
   "metadata": {},
   "outputs": [
    {
     "output_type": "stream",
     "name": "stdout",
     "text": [
      "Accuracy: 0.5979542302357836\nBalanced accuracy: 0.5065406947337426\n"
     ]
    }
   ],
   "source": [
    "clf = LogisticRegression(\n",
    "    max_iter=10000,\n",
    "    random_state=42).fit(X_kwn, y_kwn)\n",
    "\n",
    "y_pred = clf.predict(X_unkwn)\n",
    "print(f'Accuracy: {accuracy_score(y_unkwn, y_pred)}')\n",
    "print(f'Balanced accuracy: {balanced_accuracy_score(y_unkwn, y_pred)}')"
   ]
  },
  {
   "source": [
    "## Semi supervised learning"
   ],
   "cell_type": "markdown",
   "metadata": {}
  },
  {
   "cell_type": "code",
   "execution_count": 45,
   "metadata": {},
   "outputs": [
    {
     "output_type": "execute_result",
     "data": {
      "text/plain": [
       "LabelSpreading(gamma=0.5, max_iter=100, n_jobs=-1, tol=0.0001)"
      ]
     },
     "metadata": {},
     "execution_count": 45
    }
   ],
   "source": [
    "ls = LabelSpreading(\n",
    "    kernel = 'rbf',\n",
    "    gamma = .5,\n",
    "    max_iter = 100,\n",
    "    tol = 1e-3,\n",
    "    n_jobs = -1)\n",
    "ls.fit(X_df, y_df)"
   ]
  },
  {
   "cell_type": "code",
   "execution_count": 46,
   "metadata": {},
   "outputs": [
    {
     "output_type": "stream",
     "name": "stdout",
     "text": [
      "Accuracy: 0.6892865442714385\n",
      "Balanced accuracy: 0.5980189154235116\n",
      "c:\\Users\\N0tE\\Documents\\Github\\yt_trending_videos\\venv\\lib\\site-packages\\sklearn\\semi_supervised\\_label_propagation.py:205: RuntimeWarning: invalid value encountered in true_divide\n",
      "  probabilities /= normalizer\n"
     ]
    }
   ],
   "source": [
    "# y_pred_ls = ls.transduction_ # gives same result\n",
    "y_pred_ls = ls.predict(X_df)\n",
    "print(f'Accuracy: {accuracy_score(y_true_df, y_pred_ls)}')\n",
    "print(f'Balanced accuracy: {balanced_accuracy_score(y_true_df, y_pred_ls)}')"
   ]
  },
  {
   "cell_type": "code",
   "execution_count": 47,
   "metadata": {},
   "outputs": [
    {
     "output_type": "stream",
     "name": "stdout",
     "text": [
      "Accuracy: 0.5364077669902912\n",
      "Balanced accuracy: 0.38338951343413236\n",
      "c:\\Users\\N0tE\\Documents\\Github\\yt_trending_videos\\venv\\lib\\site-packages\\sklearn\\semi_supervised\\_label_propagation.py:205: RuntimeWarning: invalid value encountered in true_divide\n",
      "  probabilities /= normalizer\n",
      "c:\\Users\\N0tE\\Documents\\Github\\yt_trending_videos\\venv\\lib\\site-packages\\sklearn\\metrics\\_classification.py:1850: UserWarning: y_pred contains classes not in y_true\n",
      "  warnings.warn('y_pred contains classes not in y_true')\n"
     ]
    }
   ],
   "source": [
    "y_pred_ls = ls.predict(X_unkwn)\n",
    "print(f'Accuracy: {accuracy_score(y_unkwn, y_pred_ls)}')\n",
    "print(f'Balanced accuracy: {balanced_accuracy_score(y_unkwn, y_pred_ls)}')"
   ]
  },
  {
   "source": [
    "## Self training clf\n",
    "\n",
    "Pytanie czy nie powinniśmy udawać, że nie mamy ground truth przy wyborze algorytmu i dopiero na sam koniec sprawdzić na ground truth (train test split - część zaetykietowanych do testowego, część do treningowego). Wtedy teoretycznie wybór opieramy tylko na danych które mamy, a ostatecznie zweryfikujemy jak się sprawdza na ground truth wybrany algorytm."
   ],
   "cell_type": "markdown",
   "metadata": {}
  },
  {
   "cell_type": "code",
   "execution_count": 48,
   "metadata": {},
   "outputs": [
    {
     "output_type": "execute_result",
     "data": {
      "text/plain": [
       "SelfTrainingClassifier(base_estimator=SVC(gamma='auto', probability=True),\n",
       "                       max_iter=None)"
      ]
     },
     "metadata": {},
     "execution_count": 48
    }
   ],
   "source": [
    "svc = SVC(kernel='rbf', gamma=\"auto\", probability=True)\n",
    "stc = SelfTrainingClassifier(svc, max_iter=None)\n",
    "stc.fit(X_df, y_df)"
   ]
  },
  {
   "cell_type": "code",
   "execution_count": 49,
   "metadata": {},
   "outputs": [
    {
     "output_type": "stream",
     "name": "stdout",
     "text": [
      "Accuracy: 0.5845921450151057\nBalanced accuracy: 0.3712053971571936\n"
     ]
    }
   ],
   "source": [
    "y_pred_stc = stc.predict(X_df)\n",
    "print(f'Accuracy: {accuracy_score(y_true_df, y_pred_stc)}')\n",
    "print(f'Balanced accuracy: {balanced_accuracy_score(y_true_df, y_pred_stc)}')"
   ]
  },
  {
   "cell_type": "code",
   "execution_count": 54,
   "metadata": {},
   "outputs": [
    {
     "output_type": "stream",
     "name": "stdout",
     "text": [
      "Accuracy: 0.5646671289875174\nBalanced accuracy: 0.38396386490393025\n"
     ]
    }
   ],
   "source": [
    "y_pred_stc = stc.predict(X_unkwn)\n",
    "print(f'Accuracy: {accuracy_score(y_unkwn, y_pred_stc)}')\n",
    "print(f'Balanced accuracy: {balanced_accuracy_score(y_unkwn, y_pred_stc)}')"
   ]
  },
  {
   "cell_type": "code",
   "execution_count": null,
   "metadata": {},
   "outputs": [],
   "source": [
    "stc.transduction_"
   ]
  },
  {
   "source": [
    "## Voting clf\n",
    "Przeczytać jakie są defaulty: http://rasbt.github.io/mlxtend/user_guide/classifier/EnsembleVoteClassifier/#example-5-using-pre-fitted-classifiers"
   ],
   "cell_type": "markdown",
   "metadata": {}
  },
  {
   "cell_type": "code",
   "execution_count": 65,
   "metadata": {},
   "outputs": [
    {
     "output_type": "stream",
     "name": "stderr",
     "text": [
      "c:\\Users\\N0tE\\Documents\\Github\\yt_trending_videos\\venv\\lib\\site-packages\\mlxtend\\classifier\\ensemble_vote.py:166: UserWarning: fit_base_estimators=False enforces use_clones to be `False`\n  warnings.warn(\"fit_base_estimators=False \"\n"
     ]
    },
    {
     "output_type": "execute_result",
     "data": {
      "text/plain": [
       "EnsembleVoteClassifier(clfs=[LogisticRegression(max_iter=10000,\n",
       "                                                random_state=42),\n",
       "                             LabelSpreading(gamma=0.5, max_iter=100, n_jobs=-1,\n",
       "                                            tol=0.0001),\n",
       "                             SelfTrainingClassifier(base_estimator=SVC(gamma='auto',\n",
       "                                                                       probability=True),\n",
       "                                                    max_iter=None)],\n",
       "                       fit_base_estimators=False, use_clones=False,\n",
       "                       weights=[1, 1, 1])"
      ]
     },
     "metadata": {},
     "execution_count": 65
    }
   ],
   "source": [
    "eclf = EnsembleVoteClassifier(clfs=[clf, ls, stc], weights=[1,1,1], fit_base_estimators=False)\n",
    "eclf.fit(X_df, y_df)"
   ]
  },
  {
   "cell_type": "code",
   "execution_count": 66,
   "metadata": {},
   "outputs": [
    {
     "output_type": "stream",
     "name": "stderr",
     "text": [
      "c:\\Users\\N0tE\\Documents\\Github\\yt_trending_videos\\venv\\lib\\site-packages\\sklearn\\semi_supervised\\_label_propagation.py:205: RuntimeWarning: invalid value encountered in true_divide\n",
      "  probabilities /= normalizer\n",
      "Accuracy: 0.6967232163606786\n",
      "Balanced accuracy: 0.6130449010323875\n"
     ]
    }
   ],
   "source": [
    "y_pred = eclf.predict(X_df)\n",
    "print(f'Accuracy: {accuracy_score(y_true_df, y_pred)}')\n",
    "print(f'Balanced accuracy: {balanced_accuracy_score(y_true_df, y_pred)}')"
   ]
  },
  {
   "cell_type": "code",
   "execution_count": 67,
   "metadata": {},
   "outputs": [
    {
     "output_type": "stream",
     "name": "stderr",
     "text": [
      "c:\\Users\\N0tE\\Documents\\Github\\yt_trending_videos\\venv\\lib\\site-packages\\sklearn\\semi_supervised\\_label_propagation.py:205: RuntimeWarning: invalid value encountered in true_divide\n",
      "  probabilities /= normalizer\n",
      "Accuracy: 0.6031553398058253\n",
      "Balanced accuracy: 0.4550214354921379\n"
     ]
    }
   ],
   "source": [
    "y_pred = eclf.predict(X_unkwn)\n",
    "print(f'Accuracy: {accuracy_score(y_unkwn, y_pred)}')\n",
    "print(f'Balanced accuracy: {balanced_accuracy_score(y_unkwn, y_pred)}')"
   ]
  },
  {
   "cell_type": "code",
   "execution_count": null,
   "metadata": {},
   "outputs": [],
   "source": []
  }
 ]
}