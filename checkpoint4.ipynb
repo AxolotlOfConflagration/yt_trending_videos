{
 "cells": [
  {
   "cell_type": "code",
   "execution_count": 1,
   "id": "entertaining-garbage",
   "metadata": {},
   "outputs": [
    {
     "name": "stderr",
     "output_type": "stream",
     "text": [
      "/home/hylomorph/Study/ped/yt_trending_videos/venv/lib/python3.8/site-packages/gensim/similarities/__init__.py:15: UserWarning: The gensim.similarities.levenshtein submodule is disabled, because the optional Levenshtein package <https://pypi.org/project/python-Levenshtein/> is unavailable. Install Levenhstein (e.g. `pip install python-Levenshtein`) to suppress this warning.\n",
      "  warnings.warn(msg)\n"
     ]
    }
   ],
   "source": [
    "import itertools as it\n",
    "import os\n",
    "import pickle\n",
    "import re\n",
    "from copy import deepcopy\n",
    "from functools import reduce\n",
    "from glob import glob\n",
    "from operator import add, itemgetter\n",
    "from pprint import pprint\n",
    "\n",
    "import gensim\n",
    "import gensim.downloader as api\n",
    "import matplotlib\n",
    "import matplotlib.pyplot as plt\n",
    "import nltk\n",
    "import numpy as np\n",
    "import pandas as pd\n",
    "import seaborn as sns\n",
    "import statsmodels.api as sm\n",
    "from nltk import sent_tokenize, word_tokenize\n",
    "from nltk.corpus import stopwords\n",
    "from scipy.spatial.distance import pdist, squareform\n",
    "from sklearn.ensemble import RandomForestClassifier\n",
    "from sklearn.feature_selection import RFE\n",
    "from sklearn.linear_model import LogisticRegression\n",
    "from sklearn.metrics.pairwise import nan_euclidean_distances\n",
    "from sklearn.preprocessing import LabelEncoder, PowerTransformer\n",
    "from sklearn.decomposition import PCA\n",
    "import tqdm\n",
    "\n",
    "from utils import video_id_without_categories"
   ]
  },
  {
   "cell_type": "code",
   "execution_count": 23,
   "id": "amazing-boutique",
   "metadata": {},
   "outputs": [],
   "source": [
    "df = pd.read_pickle('data/chkp3.pkl')\n",
    "df['category_id'] = df.category_id.astype(np.int16)\n",
    "mask = pd.read_pickle('data/known_unknown_mask.pkl')"
   ]
  },
  {
   "cell_type": "markdown",
   "id": "quick-smell",
   "metadata": {},
   "source": [
    "#### Wczytywanie danych"
   ]
  },
  {
   "cell_type": "code",
   "execution_count": 30,
   "id": "oriental-winner",
   "metadata": {},
   "outputs": [
    {
     "data": {
      "text/plain": [
       "-1     5768\n",
       " 24     684\n",
       " 10     608\n",
       " 22     241\n",
       " 23     220\n",
       " 26     217\n",
       " 17     183\n",
       " 1      166\n",
       " 25     152\n",
       " 28     102\n",
       " 20      95\n",
       " 27      78\n",
       " 15      49\n",
       " 19      20\n",
       " 2       16\n",
       " 29       5\n",
       " 43       2\n",
       "Name: category_id, dtype: int64"
      ]
     },
     "execution_count": 30,
     "metadata": {},
     "output_type": "execute_result"
    }
   ],
   "source": [
    "unknown_df = df.copy()\n",
    "\n",
    "unknown_df.loc[~mask, 'category_id'] = -1\n",
    "unknown_df.category_id.value_counts(dropna=False)"
   ]
  },
  {
   "cell_type": "code",
   "execution_count": 31,
   "id": "phantom-reservation",
   "metadata": {},
   "outputs": [],
   "source": [
    "X_df = unknown_df.drop('category_id', axis=1)\n",
    "y_df = unknown_df['category_id']"
   ]
  },
  {
   "cell_type": "code",
   "execution_count": null,
   "id": "individual-gambling",
   "metadata": {},
   "outputs": [],
   "source": []
  }
 ],
 "metadata": {
  "kernelspec": {
   "display_name": "Python 3.8.5  ('venv': venv)",
   "language": "python",
   "name": "pythonjvsc74a57bd04737e655ced84519817d4d9d5a26f46d61f88b6b26db49e2afa3cac08abb8872"
  },
  "language_info": {
   "codemirror_mode": {
    "name": "ipython",
    "version": 3
   },
   "file_extension": ".py",
   "mimetype": "text/x-python",
   "name": "python",
   "nbconvert_exporter": "python",
   "pygments_lexer": "ipython3",
   "version": "3.8.5"
  }
 },
 "nbformat": 4,
 "nbformat_minor": 5
}
