{
 "cells": [
  {
   "cell_type": "code",
   "execution_count": 1,
   "id": "entertaining-garbage",
   "metadata": {},
   "outputs": [
    {
     "output_type": "error",
     "ename": "ModuleNotFoundError",
     "evalue": "No module named 'face_recognition'",
     "traceback": [
      "\u001b[1;31m---------------------------------------------------------------------------\u001b[0m",
      "\u001b[1;31mModuleNotFoundError\u001b[0m                       Traceback (most recent call last)",
      "\u001b[1;32m<ipython-input-1-c40ecc6a2d91>\u001b[0m in \u001b[0;36m<module>\u001b[1;34m\u001b[0m\n\u001b[0;32m     12\u001b[0m \u001b[1;33m\u001b[0m\u001b[0m\n\u001b[0;32m     13\u001b[0m \u001b[1;32mimport\u001b[0m \u001b[0mcv2\u001b[0m\u001b[1;33m\u001b[0m\u001b[1;33m\u001b[0m\u001b[0m\n\u001b[1;32m---> 14\u001b[1;33m \u001b[1;32mimport\u001b[0m \u001b[0mface_recognition\u001b[0m\u001b[1;33m\u001b[0m\u001b[1;33m\u001b[0m\u001b[0m\n\u001b[0m\u001b[0;32m     15\u001b[0m \u001b[1;32mimport\u001b[0m \u001b[0mgensim\u001b[0m\u001b[1;33m\u001b[0m\u001b[1;33m\u001b[0m\u001b[0m\n\u001b[0;32m     16\u001b[0m \u001b[1;32mimport\u001b[0m \u001b[0mgensim\u001b[0m\u001b[1;33m.\u001b[0m\u001b[0mdownloader\u001b[0m \u001b[1;32mas\u001b[0m \u001b[0mapi\u001b[0m\u001b[1;33m\u001b[0m\u001b[1;33m\u001b[0m\u001b[0m\n",
      "\u001b[1;31mModuleNotFoundError\u001b[0m: No module named 'face_recognition'"
     ]
    }
   ],
   "source": [
    "import json\n",
    "import pickle\n",
    "import re\n",
    "import string\n",
    "import urllib.request as ur\n",
    "import warnings\n",
    "from collections import Counter\n",
    "from copy import deepcopy\n",
    "from itertools import product\n",
    "from operator import itemgetter\n",
    "from pathlib import Path\n",
    "\n",
    "import cv2\n",
    "import face_recognition\n",
    "import gensim\n",
    "import gensim.downloader as api\n",
    "import googleapiclient.discovery\n",
    "import joblib\n",
    "import keras_ocr\n",
    "import matplotlib.pyplot as plt\n",
    "import nltk\n",
    "import numpy as np\n",
    "import pandas as pd\n",
    "import seaborn as sns\n",
    "import skimage\n",
    "import tqdm\n",
    "from gensim.models import Word2Vec\n",
    "from nltk import sent_tokenize, word_tokenize\n",
    "from nltk.corpus import stopwords\n",
    "from nltk.tokenize import RegexpTokenizer\n",
    "from scipy.stats import iqr\n",
    "from skimage import color, exposure, transform\n",
    "from tensorflow.keras.models import load_model\n",
    "# from tinydb import Query, TinyDB\n",
    "from tqdm import tqdm\n",
    "from yolov4.tf import YOLOv4\n",
    "\n",
    "from utils import YTDownloader, read_config\n",
    "\n",
    "warnings.filterwarnings(\"ignore\")\n",
    "\n",
    "cache_dir = Path('data/cache/chkp5')\n",
    "cache_dir.mkdir(exist_ok=True, parents=True)\n",
    "\n",
    "config = read_config(\"config.json\")\n",
    "config['dataset_path'] = Path(config['dataset_path'])\n",
    "\n",
    "# start_transaction = lambda: TinyDB('data/not_trending_db.json')"
   ]
  },
  {
   "cell_type": "code",
   "execution_count": 2,
   "id": "amazing-boutique",
   "metadata": {},
   "outputs": [],
   "source": [
    "# df = pd.read_pickle('data/chkp1.pkl')\n",
    "\n",
    "# with start_transaction() as db:\n",
    "#     video_ids = set(map(itemgetter('video_id'), db.all()))\n",
    "#     print(\"Liczba rekordów:\", len(video_ids))\n",
    "\n",
    "#     inserted = db.insert_multiple({'video_id': idx} for idx in df.index if idx not in video_ids)\n",
    "#     print(\"Wstawiono:\", len(inserted))"
   ]
  },
  {
   "cell_type": "code",
   "execution_count": 3,
   "id": "ac6d1033-541c-4eb6-8f6c-852fce8a7fe8",
   "metadata": {},
   "outputs": [
    {
     "name": "stdout",
     "output_type": "stream",
     "text": [
      "Wyszukiwanie danych od: 2006-07-23T08:24:11+00:00 do 2018-06-14T01:31:53+00:00\n"
     ]
    }
   ],
   "source": [
    "# minDate = df.publish_time.min().isoformat()\n",
    "# maxDate = df.publish_time.max().isoformat()\n",
    "# print(\"Wyszukiwanie danych od:\", minDate, \"do\", maxDate)"
   ]
  },
  {
   "cell_type": "markdown",
   "id": "quick-smell",
   "metadata": {},
   "source": [
    "#### Wczytywanie danych"
   ]
  },
  {
   "cell_type": "code",
   "execution_count": null,
   "id": "3493b0ac-65de-4346-b852-4d7df4a584c0",
   "metadata": {},
   "outputs": [],
   "source": []
  }
 ],
 "metadata": {
  "kernelspec": {
   "name": "pytong_moc_38",
   "display_name": "Python 3.8.0 64-bit ('venv': venv)"
  },
  "language_info": {
   "codemirror_mode": {
    "name": "ipython",
    "version": 3
   },
   "file_extension": ".py",
   "mimetype": "text/x-python",
   "name": "python",
   "nbconvert_exporter": "python",
   "pygments_lexer": "ipython3",
   "version": "3.8.0"
  }
 },
 "nbformat": 4,
 "nbformat_minor": 5
}