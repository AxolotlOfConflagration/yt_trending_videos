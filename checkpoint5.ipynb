{
 "cells": [
  {
   "cell_type": "code",
   "execution_count": 16,
   "id": "entertaining-garbage",
   "metadata": {},
   "outputs": [],
   "source": [
    "import pandas as pd\n",
    "import numpy as np\n",
    "import joblib\n",
    "from pathlib import Path\n",
    "import json\n",
    "\n",
    "import tqdm\n",
    "from itertools import product\n",
    "import seaborn as sns\n",
    "import matplotlib.pyplot as plt\n",
    "from tinydb import TinyDB, Query\n",
    "from operator import itemgetter\n",
    "from utils import read_config, YTDownloader\n",
    "import googleapiclient.discovery\n",
    "\n",
    "import warnings\n",
    "warnings.filterwarnings(\"ignore\")\n",
    "\n",
    "config = read_config('config.json')\n",
    "start_transaction = lambda: TinyDB('data/not_trending_db.json')"
   ]
  },
  {
   "cell_type": "code",
   "execution_count": 2,
   "id": "amazing-boutique",
   "metadata": {},
   "outputs": [],
   "source": [
    "df = pd.read_pickle('data/chkp1.pkl')\n",
    "\n",
    "# with start_transaction() as db:\n",
    "#     video_ids = set(map(itemgetter('video_id'), db.all()))\n",
    "#     print(\"Liczba rekordów:\", len(video_ids))\n",
    "\n",
    "#     inserted = db.insert_multiple({'video_id': idx} for idx in df.index if idx not in video_ids)\n",
    "#     print(\"Wstawiono:\", len(inserted))"
   ]
  },
  {
   "cell_type": "code",
   "execution_count": 3,
   "id": "ac6d1033-541c-4eb6-8f6c-852fce8a7fe8",
   "metadata": {},
   "outputs": [
    {
     "name": "stdout",
     "output_type": "stream",
     "text": [
      "Wyszukiwanie danych od: 2006-07-23T08:24:11+00:00 do 2018-06-14T01:31:53+00:00\n"
     ]
    }
   ],
   "source": [
    "minDate = df.publish_time.min().isoformat()\n",
    "maxDate = df.publish_time.max().isoformat()\n",
    "print(\"Wyszukiwanie danych od:\", minDate, \"do\", maxDate)"
   ]
  },
  {
   "cell_type": "markdown",
   "id": "quick-smell",
   "metadata": {},
   "source": [
    "#### Wczytywanie danych"
   ]
  },
  {
   "cell_type": "code",
   "execution_count": 13,
   "id": "5f46557f-b077-496c-9c41-b737ea7bdceb",
   "metadata": {},
   "outputs": [
    {
     "name": "stdout",
     "output_type": "stream",
     "text": [
      "[{'video_id': 'F0rXPrnC_Ps'}, {'video_id': 'ngMbosIcDRo'}, {'video_id': 'd7E3F0Vt2rE'}, {'video_id': 'PcYo_bdCvTk'}, {'video_id': 'jmqRuQGdhLs'}, {'video_id': 'sfweKCYOPFc'}, {'video_id': 'uPyLIBSVrMw'}, {'video_id': 'VoAzRs3sE70'}, {'video_id': '0devsSCkYRY'}, {'video_id': 'wV7RsaTY228'}]\n"
     ]
    }
   ],
   "source": [
    "Video = Query()\n",
    "\n",
    "import json\n",
    "\n",
    "with start_transaction() as db:\n",
    "    doc = db.search(~Video.related.exists())\n",
    "    print(doc[:10])\n",
    "#     with open('data/marcin.json', 'w') as fh:\n",
    "#         json.dump(list(reversed([d['video_id'] for d in doc])), fh)"
   ]
  },
  {
   "cell_type": "code",
   "execution_count": 2,
   "id": "2770fdb7-36bf-47be-bda6-ba1de7983864",
   "metadata": {},
   "outputs": [],
   "source": [
    "values = ['Y8Ceu9YBR1I', 'St6aYO0Gz5U', 'k8JuFit-j38', '_CzomU7kgFE', 's1bKD0kqPzk', 'enViXiw9hME', 'uiKEh5q3Pn4', '9buDC32fKw0', 'o08t04SJeqU', 'OMv2KyuZEp4']"
   ]
  },
  {
   "cell_type": "code",
   "execution_count": 3,
   "id": "9d2bfaf8-7bbd-45a1-a1f7-c212228cfc16",
   "metadata": {},
   "outputs": [],
   "source": [
    "yt = YTDownloader(config['apikey'])"
   ]
  },
  {
   "cell_type": "code",
   "execution_count": 18,
   "id": "2d7eb256-8fe9-46f8-927f-293e433c2619",
   "metadata": {},
   "outputs": [],
   "source": [
    "downloaded = yt.details_by_id(values)"
   ]
  },
  {
   "cell_type": "code",
   "execution_count": 19,
   "id": "fd04bb22-f435-4f92-90c4-1f08e6c700b5",
   "metadata": {},
   "outputs": [],
   "source": [
    "\n",
    "def to_dict(video):\n",
    "    results = {'video_id': video['id']}\n",
    "    results = {**results, **video['snippet'], **video['statistics']}\n",
    "    return results\n",
    "    \n",
    "    \n",
    "data = [to_dict(d) for d in downloaded['items']]\n",
    "\n",
    "with open('data/chkp5/data.json', 'w') as fh:\n",
    "    json.dump(data, fh)"
   ]
  },
  {
   "cell_type": "code",
   "execution_count": null,
   "id": "3493b0ac-65de-4346-b852-4d7df4a584c0",
   "metadata": {},
   "outputs": [],
   "source": []
  }
 ],
 "metadata": {
  "kernelspec": {
   "display_name": "Python 3.8.5  ('venv': venv)",
   "language": "python",
   "name": "pythonjvsc74a57bd04737e655ced84519817d4d9d5a26f46d61f88b6b26db49e2afa3cac08abb8872"
  },
  "language_info": {
   "codemirror_mode": {
    "name": "ipython",
    "version": 3
   },
   "file_extension": ".py",
   "mimetype": "text/x-python",
   "name": "python",
   "nbconvert_exporter": "python",
   "pygments_lexer": "ipython3",
   "version": "3.8.5"
  }
 },
 "nbformat": 4,
 "nbformat_minor": 5
}
