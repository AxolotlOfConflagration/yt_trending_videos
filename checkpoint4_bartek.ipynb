{
 "cells": [
  {
   "cell_type": "code",
   "execution_count": 2,
   "id": "entertaining-garbage",
   "metadata": {},
   "outputs": [
    {
     "name": "stderr",
     "output_type": "stream",
     "text": [
      "/home/hylomorph/Study/ped/yt_trending_videos/venv/lib/python3.8/site-packages/gensim/similarities/__init__.py:15: UserWarning: The gensim.similarities.levenshtein submodule is disabled, because the optional Levenshtein package <https://pypi.org/project/python-Levenshtein/> is unavailable. Install Levenhstein (e.g. `pip install python-Levenshtein`) to suppress this warning.\n",
      "  warnings.warn(msg)\n"
     ]
    }
   ],
   "source": [
    "import itertools as it\n",
    "import os\n",
    "import pickle\n",
    "import re\n",
    "from copy import deepcopy\n",
    "from functools import reduce\n",
    "from glob import glob\n",
    "from operator import add, itemgetter\n",
    "from pprint import pprint\n",
    "\n",
    "import gensim\n",
    "import gensim.downloader as api\n",
    "import matplotlib\n",
    "import matplotlib.pyplot as plt\n",
    "import nltk\n",
    "import numpy as np\n",
    "import pandas as pd\n",
    "import seaborn as sns\n",
    "import statsmodels.api as sm\n",
    "from nltk import sent_tokenize, word_tokenize\n",
    "from nltk.corpus import stopwords\n",
    "from scipy.spatial.distance import pdist, squareform\n",
    "from sklearn.ensemble import RandomForestClassifier\n",
    "from sklearn.feature_selection import RFE\n",
    "from sklearn.linear_model import LogisticRegression\n",
    "from sklearn.metrics.pairwise import nan_euclidean_distances\n",
    "from sklearn.preprocessing import LabelEncoder, PowerTransformer, RobustScaler, Normalizer, StandardScaler\n",
    "from sklearn.decomposition import PCA\n",
    "from sklearn.pipeline import make_pipeline\n",
    "from sklearn.metrics import accuracy_score, balanced_accuracy_score\n",
    "from sklearn.semi_supervised import LabelPropagation\n",
    "import tqdm\n",
    "\n",
    "from utils import video_id_without_categories"
   ]
  },
  {
   "cell_type": "code",
   "execution_count": 3,
   "id": "amazing-boutique",
   "metadata": {},
   "outputs": [],
   "source": [
    "df = pd.read_pickle('data/chkp3.pkl')\n",
    "df['category_id'] = df.category_id.astype(np.int16)\n",
    "mask = pd.read_pickle('data/known_unknown_mask.pkl')"
   ]
  },
  {
   "cell_type": "markdown",
   "id": "quick-smell",
   "metadata": {},
   "source": [
    "#### Wczytywanie danych"
   ]
  },
  {
   "cell_type": "code",
   "execution_count": 4,
   "id": "oriental-winner",
   "metadata": {},
   "outputs": [
    {
     "data": {
      "text/plain": [
       "-1     5768\n",
       " 24     684\n",
       " 10     608\n",
       " 22     241\n",
       " 23     220\n",
       " 26     217\n",
       " 17     183\n",
       " 1      166\n",
       " 25     152\n",
       " 28     102\n",
       " 20      95\n",
       " 27      78\n",
       " 15      49\n",
       " 19      20\n",
       " 2       16\n",
       " 29       5\n",
       " 43       2\n",
       "Name: category_id, dtype: int64"
      ]
     },
     "execution_count": 4,
     "metadata": {},
     "output_type": "execute_result"
    }
   ],
   "source": [
    "unknown_df = df.copy()\n",
    "\n",
    "unknown_df.loc[~mask, 'category_id'] = -1\n",
    "unknown_df.category_id.value_counts(dropna=False)"
   ]
  },
  {
   "cell_type": "code",
   "execution_count": 5,
   "id": "phantom-reservation",
   "metadata": {},
   "outputs": [],
   "source": [
    "X_df = unknown_df.drop('category_id', axis=1)\n",
    "y_df = unknown_df['category_id']\n",
    "y_true_df = df.category_id\n",
    "\n",
    "X_unknown_only = X_df.loc[~mask]\n",
    "y_unknown_true = y_true_df.loc[~mask]"
   ]
  },
  {
   "cell_type": "markdown",
   "id": "italian-islam",
   "metadata": {},
   "source": [
    "### Uczenie pół-nadzorowane"
   ]
  },
  {
   "cell_type": "code",
   "execution_count": 6,
   "id": "bearing-position",
   "metadata": {},
   "outputs": [
    {
     "name": "stdout",
     "output_type": "stream",
     "text": [
      "Pipeline(steps=[('robustscaler', RobustScaler(quantile_range=(5, 95))),\n",
      "                ('labelpropagation', LabelPropagation(max_iter=10000))])\n",
      "Pipeline(steps=[('robustscaler', RobustScaler(quantile_range=(5, 95))),\n",
      "                ('labelpropagation',\n",
      "                 LabelPropagation(kernel='knn', max_iter=10000))])\n",
      "Pipeline(steps=[('standardscaler', StandardScaler()),\n",
      "                ('labelpropagation', LabelPropagation(max_iter=10000))])\n",
      "Pipeline(steps=[('standardscaler', StandardScaler()),\n",
      "                ('labelpropagation',\n",
      "                 LabelPropagation(kernel='knn', max_iter=10000))])\n",
      "Pipeline(steps=[('normalizer', Normalizer()),\n",
      "                ('labelpropagation', LabelPropagation(max_iter=10000))])\n",
      "Pipeline(steps=[('normalizer', Normalizer()),\n",
      "                ('labelpropagation',\n",
      "                 LabelPropagation(kernel='knn', max_iter=10000))])\n"
     ]
    }
   ],
   "source": [
    "scalers = [RobustScaler(quantile_range=(5, 95)), StandardScaler(), Normalizer()]\n",
    "classifiers = [LabelPropagation(kernel='rbf', max_iter=10000), LabelPropagation(kernel='knn', max_iter=10000)]\n",
    "\n",
    "from itertools import product\n",
    "\n",
    "pipelines = [make_pipeline(*steps) for steps in product(scalers, classifiers)]\n",
    "for pipeline in pipelines:\n",
    "    print(pipeline)"
   ]
  },
  {
   "cell_type": "markdown",
   "id": "prescribed-fighter",
   "metadata": {},
   "source": [
    "##### Trenowanie"
   ]
  },
  {
   "cell_type": "code",
   "execution_count": 7,
   "id": "documentary-journey",
   "metadata": {},
   "outputs": [
    {
     "name": "stderr",
     "output_type": "stream",
     "text": [
      "\r",
      "  0%|          | 0/6 [00:00<?, ?it/s]"
     ]
    },
    {
     "name": "stdout",
     "output_type": "stream",
     "text": [
      "Loading from data/chkp3/1007a4906619c10d7ab772fab547266c.pkl\n"
     ]
    },
    {
     "name": "stderr",
     "output_type": "stream",
     "text": [
      "\r",
      " 17%|█▋        | 1/6 [00:03<00:18,  3.68s/it]"
     ]
    },
    {
     "name": "stdout",
     "output_type": "stream",
     "text": [
      "Loading from data/chkp3/8ccd302550829a1d547381dbf4071dd6.pkl\n"
     ]
    },
    {
     "name": "stderr",
     "output_type": "stream",
     "text": [
      "\r",
      " 33%|███▎      | 2/6 [00:06<00:12,  3.13s/it]"
     ]
    },
    {
     "name": "stdout",
     "output_type": "stream",
     "text": [
      "Loading from data/chkp3/cca4953970b2f6d864b2de6ee03b3735.pkl\n"
     ]
    },
    {
     "name": "stderr",
     "output_type": "stream",
     "text": [
      "\r",
      " 50%|█████     | 3/6 [00:09<00:09,  3.11s/it]"
     ]
    },
    {
     "name": "stdout",
     "output_type": "stream",
     "text": [
      "Loading from data/chkp3/933388cebbc0d6fa2f772a49c0479333.pkl\n"
     ]
    },
    {
     "name": "stderr",
     "output_type": "stream",
     "text": [
      "\r",
      " 67%|██████▋   | 4/6 [00:12<00:06,  3.04s/it]"
     ]
    },
    {
     "name": "stdout",
     "output_type": "stream",
     "text": [
      "Loading from data/chkp3/2b60b5c8956383f47a852d3c8bb5240e.pkl\n"
     ]
    },
    {
     "name": "stderr",
     "output_type": "stream",
     "text": [
      "\r",
      " 83%|████████▎ | 5/6 [00:15<00:02,  2.97s/it]"
     ]
    },
    {
     "name": "stdout",
     "output_type": "stream",
     "text": [
      "Loading from data/chkp3/0e4db668d9ed12e2efe7d436f98d4e1e.pkl\n"
     ]
    },
    {
     "name": "stderr",
     "output_type": "stream",
     "text": [
      "100%|██████████| 6/6 [00:18<00:00,  3.01s/it]\n"
     ]
    }
   ],
   "source": [
    "from collections import defaultdict\n",
    "import joblib\n",
    "from pathlib import Path\n",
    "\n",
    "clf_dir = Path('data/chkp3')\n",
    "clf_dir.mkdir(exist_ok=True, parents=True)\n",
    "\n",
    "results = defaultdict(list)\n",
    "\n",
    "for pipeline in tqdm.tqdm(pipelines):\n",
    "    name_hash = joblib.hash(str(pipeline)) + \".pkl\"\n",
    "    clf_path = clf_dir/ name_hash\n",
    "    if clf_path.exists():\n",
    "        print(f\"Loading from {clf_path}\")\n",
    "        pipeline = joblib.load(str(clf_path))\n",
    "    else:\n",
    "        print(f\"Saving to {clf_path}\")\n",
    "        pipeline.fit(X_df, y_df)\n",
    "        joblib.dump(pipeline, str(clf_path))\n",
    "    \n",
    "    y_hat = pipeline.predict(X_df)\n",
    "    y_unknown_only = pipeline.predict(X_unknown_only)\n",
    "    results['name'].append(str(pipeline))\n",
    "    results['accuracy'].append(accuracy_score(y_true_df, y_hat))\n",
    "    results['balanced_accuracy'].append(balanced_accuracy_score(y_true_df, y_hat))\n",
    "    \n",
    "    results['unknown_accuracy'].append(accuracy_score(y_unknown_true, y_unknown_only))\n",
    "    results['unknown_balanced_accuracy'].append(balanced_accuracy_score(y_unknown_true, y_unknown_only))\n",
    "    \n",
    "results = pd.DataFrame(results)"
   ]
  },
  {
   "cell_type": "code",
   "execution_count": 8,
   "id": "monthly-thong",
   "metadata": {},
   "outputs": [
    {
     "data": {
      "text/html": [
       "<div>\n",
       "<style scoped>\n",
       "    .dataframe tbody tr th:only-of-type {\n",
       "        vertical-align: middle;\n",
       "    }\n",
       "\n",
       "    .dataframe tbody tr th {\n",
       "        vertical-align: top;\n",
       "    }\n",
       "\n",
       "    .dataframe thead th {\n",
       "        text-align: right;\n",
       "    }\n",
       "</style>\n",
       "<table border=\"1\" class=\"dataframe\">\n",
       "  <thead>\n",
       "    <tr style=\"text-align: right;\">\n",
       "      <th></th>\n",
       "      <th>name</th>\n",
       "      <th>accuracy</th>\n",
       "      <th>balanced_accuracy</th>\n",
       "      <th>unknown_accuracy</th>\n",
       "      <th>unknown_balanced_accuracy</th>\n",
       "    </tr>\n",
       "  </thead>\n",
       "  <tbody>\n",
       "    <tr>\n",
       "      <th>4</th>\n",
       "      <td>Pipeline(steps=[('normalizer', Normalizer()),\\...</td>\n",
       "      <td>0.217058</td>\n",
       "      <td>0.066286</td>\n",
       "      <td>0.204577</td>\n",
       "      <td>0.069950</td>\n",
       "    </tr>\n",
       "    <tr>\n",
       "      <th>5</th>\n",
       "      <td>Pipeline(steps=[('normalizer', Normalizer()),\\...</td>\n",
       "      <td>0.096212</td>\n",
       "      <td>0.076124</td>\n",
       "      <td>0.066748</td>\n",
       "      <td>0.072164</td>\n",
       "    </tr>\n",
       "    <tr>\n",
       "      <th>3</th>\n",
       "      <td>Pipeline(steps=[('standardscaler', StandardSca...</td>\n",
       "      <td>0.084360</td>\n",
       "      <td>0.078655</td>\n",
       "      <td>0.076110</td>\n",
       "      <td>0.081204</td>\n",
       "    </tr>\n",
       "    <tr>\n",
       "      <th>1</th>\n",
       "      <td>Pipeline(steps=[('robustscaler', RobustScaler(...</td>\n",
       "      <td>0.078782</td>\n",
       "      <td>0.075160</td>\n",
       "      <td>0.066054</td>\n",
       "      <td>0.074230</td>\n",
       "    </tr>\n",
       "    <tr>\n",
       "      <th>0</th>\n",
       "      <td>Pipeline(steps=[('robustscaler', RobustScaler(...</td>\n",
       "      <td>0.052870</td>\n",
       "      <td>0.062500</td>\n",
       "      <td>0.050104</td>\n",
       "      <td>0.066667</td>\n",
       "    </tr>\n",
       "    <tr>\n",
       "      <th>2</th>\n",
       "      <td>Pipeline(steps=[('standardscaler', StandardSca...</td>\n",
       "      <td>0.052870</td>\n",
       "      <td>0.062500</td>\n",
       "      <td>0.050104</td>\n",
       "      <td>0.066667</td>\n",
       "    </tr>\n",
       "  </tbody>\n",
       "</table>\n",
       "</div>"
      ],
      "text/plain": [
       "                                                name  accuracy  \\\n",
       "4  Pipeline(steps=[('normalizer', Normalizer()),\\...  0.217058   \n",
       "5  Pipeline(steps=[('normalizer', Normalizer()),\\...  0.096212   \n",
       "3  Pipeline(steps=[('standardscaler', StandardSca...  0.084360   \n",
       "1  Pipeline(steps=[('robustscaler', RobustScaler(...  0.078782   \n",
       "0  Pipeline(steps=[('robustscaler', RobustScaler(...  0.052870   \n",
       "2  Pipeline(steps=[('standardscaler', StandardSca...  0.052870   \n",
       "\n",
       "   balanced_accuracy  unknown_accuracy  unknown_balanced_accuracy  \n",
       "4           0.066286          0.204577                   0.069950  \n",
       "5           0.076124          0.066748                   0.072164  \n",
       "3           0.078655          0.076110                   0.081204  \n",
       "1           0.075160          0.066054                   0.074230  \n",
       "0           0.062500          0.050104                   0.066667  \n",
       "2           0.062500          0.050104                   0.066667  "
      ]
     },
     "execution_count": 8,
     "metadata": {},
     "output_type": "execute_result"
    }
   ],
   "source": [
    "results.sort_values('accuracy', ascending=False)"
   ]
  },
  {
   "cell_type": "markdown",
   "id": "graphic-garbage",
   "metadata": {},
   "source": [
    "## R"
   ]
  },
  {
   "cell_type": "code",
   "execution_count": 56,
   "id": "former-transaction",
   "metadata": {},
   "outputs": [
    {
     "data": {
      "text/html": [
       "<div>\n",
       "<style scoped>\n",
       "    .dataframe tbody tr th:only-of-type {\n",
       "        vertical-align: middle;\n",
       "    }\n",
       "\n",
       "    .dataframe tbody tr th {\n",
       "        vertical-align: top;\n",
       "    }\n",
       "\n",
       "    .dataframe thead th {\n",
       "        text-align: right;\n",
       "    }\n",
       "</style>\n",
       "<table border=\"1\" class=\"dataframe\">\n",
       "  <thead>\n",
       "    <tr style=\"text-align: right;\">\n",
       "      <th></th>\n",
       "      <th>views</th>\n",
       "      <th>likes</th>\n",
       "      <th>dislikes</th>\n",
       "      <th>comment_count</th>\n",
       "      <th>comments_disabled</th>\n",
       "      <th>ratings_disabled</th>\n",
       "      <th>video_error_or_removed</th>\n",
       "      <th>publish_time_day</th>\n",
       "      <th>publish_time_month</th>\n",
       "      <th>publish_time_year</th>\n",
       "      <th>...</th>\n",
       "      <th>objects_6</th>\n",
       "      <th>objects_7</th>\n",
       "      <th>objects_8</th>\n",
       "      <th>objects_9</th>\n",
       "      <th>objects_10</th>\n",
       "      <th>objects_11</th>\n",
       "      <th>objects_12</th>\n",
       "      <th>objects_13</th>\n",
       "      <th>objects_14</th>\n",
       "      <th>Class</th>\n",
       "    </tr>\n",
       "    <tr>\n",
       "      <th>video_id</th>\n",
       "      <th></th>\n",
       "      <th></th>\n",
       "      <th></th>\n",
       "      <th></th>\n",
       "      <th></th>\n",
       "      <th></th>\n",
       "      <th></th>\n",
       "      <th></th>\n",
       "      <th></th>\n",
       "      <th></th>\n",
       "      <th></th>\n",
       "      <th></th>\n",
       "      <th></th>\n",
       "      <th></th>\n",
       "      <th></th>\n",
       "      <th></th>\n",
       "      <th></th>\n",
       "      <th></th>\n",
       "      <th></th>\n",
       "      <th></th>\n",
       "      <th></th>\n",
       "    </tr>\n",
       "  </thead>\n",
       "  <tbody>\n",
       "    <tr>\n",
       "      <th>9wRQljFNDW8</th>\n",
       "      <td>2.346992e-06</td>\n",
       "      <td>1.889084e-08</td>\n",
       "      <td>7.210245e-10</td>\n",
       "      <td>5.104853e-09</td>\n",
       "      <td>0.0</td>\n",
       "      <td>0.0</td>\n",
       "      <td>0.0</td>\n",
       "      <td>3.749327e-10</td>\n",
       "      <td>3.172508e-10</td>\n",
       "      <td>5.817226e-08</td>\n",
       "      <td>...</td>\n",
       "      <td>1.746708e-14</td>\n",
       "      <td>-5.135288e-14</td>\n",
       "      <td>-1.284299e-14</td>\n",
       "      <td>-3.148085e-14</td>\n",
       "      <td>4.801021e-14</td>\n",
       "      <td>1.304634e-14</td>\n",
       "      <td>-2.329582e-14</td>\n",
       "      <td>-2.518598e-14</td>\n",
       "      <td>-9.487018e-15</td>\n",
       "      <td>NaN</td>\n",
       "    </tr>\n",
       "    <tr>\n",
       "      <th>Om_zGhJLZ5U</th>\n",
       "      <td>1.351123e-05</td>\n",
       "      <td>3.514337e-07</td>\n",
       "      <td>3.703732e-08</td>\n",
       "      <td>9.871943e-08</td>\n",
       "      <td>0.0</td>\n",
       "      <td>0.0</td>\n",
       "      <td>0.0</td>\n",
       "      <td>5.611715e-10</td>\n",
       "      <td>5.144072e-10</td>\n",
       "      <td>9.432358e-08</td>\n",
       "      <td>...</td>\n",
       "      <td>2.757011e-14</td>\n",
       "      <td>-8.452427e-14</td>\n",
       "      <td>-2.176896e-14</td>\n",
       "      <td>-5.008287e-14</td>\n",
       "      <td>8.045961e-14</td>\n",
       "      <td>1.992135e-14</td>\n",
       "      <td>-3.910513e-14</td>\n",
       "      <td>-4.028449e-14</td>\n",
       "      <td>-1.628317e-14</td>\n",
       "      <td>NaN</td>\n",
       "    </tr>\n",
       "    <tr>\n",
       "      <th>goP4Z5wyOlM</th>\n",
       "      <td>2.089504e-07</td>\n",
       "      <td>1.850128e-09</td>\n",
       "      <td>1.561797e-10</td>\n",
       "      <td>2.480854e-09</td>\n",
       "      <td>0.0</td>\n",
       "      <td>0.0</td>\n",
       "      <td>0.0</td>\n",
       "      <td>7.208292e-11</td>\n",
       "      <td>6.607601e-11</td>\n",
       "      <td>1.211594e-08</td>\n",
       "      <td>...</td>\n",
       "      <td>4.212454e-14</td>\n",
       "      <td>-2.768126e-14</td>\n",
       "      <td>-2.883515e-14</td>\n",
       "      <td>-1.806023e-14</td>\n",
       "      <td>-3.469699e-14</td>\n",
       "      <td>-5.766010e-15</td>\n",
       "      <td>-2.938299e-14</td>\n",
       "      <td>-3.168926e-14</td>\n",
       "      <td>-2.561524e-16</td>\n",
       "      <td>NaN</td>\n",
       "    </tr>\n",
       "    <tr>\n",
       "      <th>8NHA23f7LvU</th>\n",
       "      <td>4.889397e-05</td>\n",
       "      <td>5.266422e-07</td>\n",
       "      <td>7.712060e-09</td>\n",
       "      <td>1.977032e-08</td>\n",
       "      <td>0.0</td>\n",
       "      <td>0.0</td>\n",
       "      <td>0.0</td>\n",
       "      <td>3.267822e-10</td>\n",
       "      <td>3.594604e-10</td>\n",
       "      <td>6.591197e-08</td>\n",
       "      <td>...</td>\n",
       "      <td>1.937792e-14</td>\n",
       "      <td>-5.894161e-14</td>\n",
       "      <td>-1.546653e-14</td>\n",
       "      <td>-3.510396e-14</td>\n",
       "      <td>5.599271e-14</td>\n",
       "      <td>1.388852e-14</td>\n",
       "      <td>-2.722585e-14</td>\n",
       "      <td>-2.806887e-14</td>\n",
       "      <td>-1.121339e-14</td>\n",
       "      <td>NaN</td>\n",
       "    </tr>\n",
       "    <tr>\n",
       "      <th>IE-xepGLVt8</th>\n",
       "      <td>4.273401e-07</td>\n",
       "      <td>3.414298e-09</td>\n",
       "      <td>1.332585e-10</td>\n",
       "      <td>4.682054e-10</td>\n",
       "      <td>0.0</td>\n",
       "      <td>0.0</td>\n",
       "      <td>0.0</td>\n",
       "      <td>1.800790e-11</td>\n",
       "      <td>1.980869e-11</td>\n",
       "      <td>3.632193e-09</td>\n",
       "      <td>...</td>\n",
       "      <td>-3.222480e-13</td>\n",
       "      <td>-1.858249e-13</td>\n",
       "      <td>-5.547759e-14</td>\n",
       "      <td>-3.403553e-14</td>\n",
       "      <td>-9.862859e-15</td>\n",
       "      <td>2.622265e-14</td>\n",
       "      <td>7.152344e-14</td>\n",
       "      <td>-2.195817e-15</td>\n",
       "      <td>-5.685228e-15</td>\n",
       "      <td>NaN</td>\n",
       "    </tr>\n",
       "  </tbody>\n",
       "</table>\n",
       "<p>5 rows × 249 columns</p>\n",
       "</div>"
      ],
      "text/plain": [
       "                    views         likes      dislikes  comment_count  \\\n",
       "video_id                                                               \n",
       "9wRQljFNDW8  2.346992e-06  1.889084e-08  7.210245e-10   5.104853e-09   \n",
       "Om_zGhJLZ5U  1.351123e-05  3.514337e-07  3.703732e-08   9.871943e-08   \n",
       "goP4Z5wyOlM  2.089504e-07  1.850128e-09  1.561797e-10   2.480854e-09   \n",
       "8NHA23f7LvU  4.889397e-05  5.266422e-07  7.712060e-09   1.977032e-08   \n",
       "IE-xepGLVt8  4.273401e-07  3.414298e-09  1.332585e-10   4.682054e-10   \n",
       "\n",
       "             comments_disabled  ratings_disabled  video_error_or_removed  \\\n",
       "video_id                                                                   \n",
       "9wRQljFNDW8                0.0               0.0                     0.0   \n",
       "Om_zGhJLZ5U                0.0               0.0                     0.0   \n",
       "goP4Z5wyOlM                0.0               0.0                     0.0   \n",
       "8NHA23f7LvU                0.0               0.0                     0.0   \n",
       "IE-xepGLVt8                0.0               0.0                     0.0   \n",
       "\n",
       "             publish_time_day  publish_time_month  publish_time_year  ...  \\\n",
       "video_id                                                              ...   \n",
       "9wRQljFNDW8      3.749327e-10        3.172508e-10       5.817226e-08  ...   \n",
       "Om_zGhJLZ5U      5.611715e-10        5.144072e-10       9.432358e-08  ...   \n",
       "goP4Z5wyOlM      7.208292e-11        6.607601e-11       1.211594e-08  ...   \n",
       "8NHA23f7LvU      3.267822e-10        3.594604e-10       6.591197e-08  ...   \n",
       "IE-xepGLVt8      1.800790e-11        1.980869e-11       3.632193e-09  ...   \n",
       "\n",
       "                objects_6     objects_7     objects_8     objects_9  \\\n",
       "video_id                                                              \n",
       "9wRQljFNDW8  1.746708e-14 -5.135288e-14 -1.284299e-14 -3.148085e-14   \n",
       "Om_zGhJLZ5U  2.757011e-14 -8.452427e-14 -2.176896e-14 -5.008287e-14   \n",
       "goP4Z5wyOlM  4.212454e-14 -2.768126e-14 -2.883515e-14 -1.806023e-14   \n",
       "8NHA23f7LvU  1.937792e-14 -5.894161e-14 -1.546653e-14 -3.510396e-14   \n",
       "IE-xepGLVt8 -3.222480e-13 -1.858249e-13 -5.547759e-14 -3.403553e-14   \n",
       "\n",
       "               objects_10    objects_11    objects_12    objects_13  \\\n",
       "video_id                                                              \n",
       "9wRQljFNDW8  4.801021e-14  1.304634e-14 -2.329582e-14 -2.518598e-14   \n",
       "Om_zGhJLZ5U  8.045961e-14  1.992135e-14 -3.910513e-14 -4.028449e-14   \n",
       "goP4Z5wyOlM -3.469699e-14 -5.766010e-15 -2.938299e-14 -3.168926e-14   \n",
       "8NHA23f7LvU  5.599271e-14  1.388852e-14 -2.722585e-14 -2.806887e-14   \n",
       "IE-xepGLVt8 -9.862859e-15  2.622265e-14  7.152344e-14 -2.195817e-15   \n",
       "\n",
       "               objects_14  Class  \n",
       "video_id                          \n",
       "9wRQljFNDW8 -9.487018e-15    NaN  \n",
       "Om_zGhJLZ5U -1.628317e-14    NaN  \n",
       "goP4Z5wyOlM -2.561524e-16    NaN  \n",
       "8NHA23f7LvU -1.121339e-14    NaN  \n",
       "IE-xepGLVt8 -5.685228e-15    NaN  \n",
       "\n",
       "[5 rows x 249 columns]"
      ]
     },
     "execution_count": 56,
     "metadata": {},
     "output_type": "execute_result"
    }
   ],
   "source": [
    "nr = Normalizer()\n",
    "r_df = X_df.copy()\n",
    "r_df[:] = nr.fit_transform(X_df)\n",
    "r_df['Class'] = y_df\n",
    "y_mask = y_df >= 24\n",
    "# r_df.loc[y_mask, 'Class'] = 1\n",
    "# r_df.loc[~y_mask, 'Class'] = 0\n",
    "r_df.loc[~mask, 'Class'] = np.nan\n",
    "\n",
    "r_df.to_csv('data/R_chkp4.csv', index=False)\n",
    "r_df.head()"
   ]
  },
  {
   "cell_type": "code",
   "execution_count": 57,
   "id": "moderate-colorado",
   "metadata": {},
   "outputs": [
    {
     "data": {
      "text/plain": [
       "NaN     5768\n",
       "24.0     684\n",
       "10.0     608\n",
       "22.0     241\n",
       "23.0     220\n",
       "26.0     217\n",
       "17.0     183\n",
       "1.0      166\n",
       "25.0     152\n",
       "28.0     102\n",
       "20.0      95\n",
       "27.0      78\n",
       "15.0      49\n",
       "19.0      20\n",
       "2.0       16\n",
       "29.0       5\n",
       "43.0       2\n",
       "Name: Class, dtype: int64"
      ]
     },
     "execution_count": 57,
     "metadata": {},
     "output_type": "execute_result"
    }
   ],
   "source": [
    "r_df['Class'].value_counts(dropna=False)"
   ]
  },
  {
   "cell_type": "code",
   "execution_count": null,
   "id": "selected-settle",
   "metadata": {},
   "outputs": [],
   "source": [
    "X_df = unknown_df.drop('category_id', axis=1)\n",
    "y_df = unknown_df['category_id']\n",
    "y_true_df = df.category_id\n",
    "\n",
    "X_unknown_only = X_df.loc[~mask]\n",
    "y_unknown_true = y_true_df.loc[~mask]"
   ]
  },
  {
   "cell_type": "code",
   "execution_count": 9,
   "id": "primary-walker",
   "metadata": {},
   "outputs": [],
   "source": [
    "from rpy2.robjects.packages import importr, isinstalled\n",
    "from rpy2.robjects.vectors import StrVector"
   ]
  },
  {
   "cell_type": "code",
   "execution_count": 10,
   "id": "isolated-theme",
   "metadata": {},
   "outputs": [
    {
     "data": {
      "text/plain": [
       "<rpy2.rinterface_lib.sexp.NULLType object at 0x7feadf9bb440> [RTYPES.NILSXP]"
      ]
     },
     "execution_count": 10,
     "metadata": {},
     "output_type": "execute_result"
    }
   ],
   "source": [
    "utils = importr('utils')\n",
    "utils.chooseCRANmirror(ind=1)"
   ]
  },
  {
   "cell_type": "code",
   "execution_count": 11,
   "id": "associate-liberia",
   "metadata": {},
   "outputs": [
    {
     "name": "stderr",
     "output_type": "stream",
     "text": [
      "R[write to console]: Installing package into ‘/home/hylomorph/R/x86_64-pc-linux-gnu-library/3.6’\n",
      "(as ‘lib’ is unspecified)\n",
      "\n"
     ]
    },
    {
     "name": "stdout",
     "output_type": "stream",
     "text": [
      "['RSSL']\n"
     ]
    },
    {
     "name": "stderr",
     "output_type": "stream",
     "text": [
      "R[write to console]: also installing the dependencies ‘digest’, ‘ggplot2’\n",
      "\n",
      "\n",
      "R[write to console]: trying URL 'https://cloud.r-project.org/src/contrib/digest_0.6.27.tar.gz'\n",
      "\n",
      "R[write to console]: Content type 'application/x-gzip'\n",
      "R[write to console]:  length 164373 bytes (160 KB)\n",
      "\n",
      "R[write to console]: =\n",
      "R[write to console]: =\n",
      "R[write to console]: =\n",
      "R[write to console]: =\n",
      "R[write to console]: =\n",
      "R[write to console]: =\n",
      "R[write to console]: =\n",
      "R[write to console]: =\n",
      "R[write to console]: =\n",
      "R[write to console]: =\n",
      "R[write to console]: =\n",
      "R[write to console]: =\n",
      "R[write to console]: =\n",
      "R[write to console]: =\n",
      "R[write to console]: =\n",
      "R[write to console]: =\n",
      "R[write to console]: =\n",
      "R[write to console]: =\n",
      "R[write to console]: =\n",
      "R[write to console]: =\n",
      "R[write to console]: =\n",
      "R[write to console]: =\n",
      "R[write to console]: =\n",
      "R[write to console]: =\n",
      "R[write to console]: =\n",
      "R[write to console]: =\n",
      "R[write to console]: =\n",
      "R[write to console]: =\n",
      "R[write to console]: =\n",
      "R[write to console]: =\n",
      "R[write to console]: =\n",
      "R[write to console]: =\n",
      "R[write to console]: =\n",
      "R[write to console]: =\n",
      "R[write to console]: =\n",
      "R[write to console]: =\n",
      "R[write to console]: =\n",
      "R[write to console]: =\n",
      "R[write to console]: =\n",
      "R[write to console]: =\n",
      "R[write to console]: =\n",
      "R[write to console]: =\n",
      "R[write to console]: =\n",
      "R[write to console]: =\n",
      "R[write to console]: =\n",
      "R[write to console]: =\n",
      "R[write to console]: =\n",
      "R[write to console]: =\n",
      "R[write to console]: =\n",
      "R[write to console]: =\n",
      "R[write to console]: \n",
      "\n",
      "R[write to console]: downloaded 160 KB\n",
      "\n",
      "\n",
      "R[write to console]: trying URL 'https://cloud.r-project.org/src/contrib/ggplot2_3.3.3.tar.gz'\n",
      "\n",
      "R[write to console]: Content type 'application/x-gzip'\n",
      "R[write to console]:  length 3058840 bytes (2.9 MB)\n",
      "\n",
      "R[write to console]: =\n",
      "R[write to console]: =\n",
      "R[write to console]: =\n",
      "R[write to console]: =\n",
      "R[write to console]: =\n",
      "R[write to console]: =\n",
      "R[write to console]: =\n",
      "R[write to console]: =\n",
      "R[write to console]: =\n",
      "R[write to console]: =\n",
      "R[write to console]: =\n",
      "R[write to console]: =\n",
      "R[write to console]: =\n",
      "R[write to console]: =\n",
      "R[write to console]: =\n",
      "R[write to console]: =\n",
      "R[write to console]: =\n",
      "R[write to console]: =\n",
      "R[write to console]: =\n",
      "R[write to console]: =\n",
      "R[write to console]: =\n",
      "R[write to console]: =\n",
      "R[write to console]: =\n",
      "R[write to console]: =\n",
      "R[write to console]: =\n",
      "R[write to console]: =\n",
      "R[write to console]: =\n",
      "R[write to console]: =\n",
      "R[write to console]: =\n",
      "R[write to console]: =\n",
      "R[write to console]: =\n",
      "R[write to console]: =\n",
      "R[write to console]: =\n",
      "R[write to console]: =\n",
      "R[write to console]: =\n",
      "R[write to console]: =\n",
      "R[write to console]: =\n",
      "R[write to console]: =\n",
      "R[write to console]: =\n",
      "R[write to console]: =\n",
      "R[write to console]: =\n",
      "R[write to console]: =\n",
      "R[write to console]: =\n",
      "R[write to console]: =\n",
      "R[write to console]: =\n",
      "R[write to console]: =\n",
      "R[write to console]: =\n",
      "R[write to console]: =\n",
      "R[write to console]: =\n",
      "R[write to console]: =\n",
      "R[write to console]: \n",
      "\n",
      "R[write to console]: downloaded 2.9 MB\n",
      "\n",
      "\n",
      "R[write to console]: trying URL 'https://cloud.r-project.org/src/contrib/RSSL_0.9.3.tar.gz'\n",
      "\n",
      "R[write to console]: Content type 'application/x-gzip'\n",
      "R[write to console]:  length 1132041 bytes (1.1 MB)\n",
      "\n",
      "R[write to console]: =\n",
      "R[write to console]: =\n",
      "R[write to console]: =\n",
      "R[write to console]: =\n",
      "R[write to console]: =\n",
      "R[write to console]: =\n",
      "R[write to console]: =\n",
      "R[write to console]: =\n",
      "R[write to console]: =\n",
      "R[write to console]: =\n",
      "R[write to console]: =\n",
      "R[write to console]: =\n",
      "R[write to console]: =\n",
      "R[write to console]: =\n",
      "R[write to console]: =\n",
      "R[write to console]: =\n",
      "R[write to console]: =\n",
      "R[write to console]: =\n",
      "R[write to console]: =\n",
      "R[write to console]: =\n",
      "R[write to console]: =\n",
      "R[write to console]: =\n",
      "R[write to console]: =\n",
      "R[write to console]: =\n",
      "R[write to console]: =\n",
      "R[write to console]: =\n",
      "R[write to console]: =\n",
      "R[write to console]: =\n",
      "R[write to console]: =\n",
      "R[write to console]: =\n",
      "R[write to console]: =\n",
      "R[write to console]: =\n",
      "R[write to console]: =\n",
      "R[write to console]: =\n",
      "R[write to console]: =\n",
      "R[write to console]: =\n",
      "R[write to console]: =\n",
      "R[write to console]: =\n",
      "R[write to console]: =\n",
      "R[write to console]: =\n",
      "R[write to console]: =\n",
      "R[write to console]: =\n",
      "R[write to console]: =\n",
      "R[write to console]: =\n",
      "R[write to console]: =\n",
      "R[write to console]: =\n",
      "R[write to console]: =\n",
      "R[write to console]: =\n",
      "R[write to console]: =\n",
      "R[write to console]: =\n",
      "R[write to console]: \n",
      "\n",
      "R[write to console]: downloaded 1.1 MB\n",
      "\n",
      "\n",
      "R[write to console]: \n",
      "\n",
      "R[write to console]: \n",
      "R[write to console]: The downloaded source packages are in\n",
      "\t‘/tmp/Rtmpe5g9yg/downloaded_packages’\n",
      "R[write to console]: \n",
      "R[write to console]: \n",
      "\n"
     ]
    }
   ],
   "source": [
    "packnames = ['RSSL']\n",
    "\n",
    "# Selectively install what needs to be install.\n",
    "# We are fancy, just because we can.\n",
    "names_to_install = [x for x in packnames if not isinstalled(x)]\n",
    "print(names_to_install)\n",
    "if len(names_to_install) > 0:\n",
    "    utils.install_packages(StrVector(names_to_install))"
   ]
  },
  {
   "cell_type": "code",
   "execution_count": 14,
   "id": "driven-forestry",
   "metadata": {},
   "outputs": [],
   "source": [
    "rssl = importr('RSSL')"
   ]
  },
  {
   "cell_type": "code",
   "execution_count": 47,
   "id": "dutch-environment",
   "metadata": {},
   "outputs": [
    {
     "data": {
      "text/plain": [
       "<rpy2.robjects.environments.Environment object at 0x7feadf9afc40> [RTYPES.ENVSXP]\n",
       "R classes: ('environment',)\n",
       "n items: 0"
      ]
     },
     "execution_count": 47,
     "metadata": {},
     "output_type": "execute_result"
    }
   ],
   "source": [
    "ro.globalenv"
   ]
  },
  {
   "cell_type": "code",
   "execution_count": 55,
   "id": "rising-moses",
   "metadata": {},
   "outputs": [
    {
     "name": "stderr",
     "output_type": "stream",
     "text": [
      "R[write to console]: Error in PreProcessing(X = X, y = y, X_u = X_u, scale = scale, intercept = FALSE,  : \n",
      "  No valid input for X, y and X_u.\n",
      "\n"
     ]
    },
    {
     "ename": "RRuntimeError",
     "evalue": "Error in PreProcessing(X = X, y = y, X_u = X_u, scale = scale, intercept = FALSE,  : \n  No valid input for X, y and X_u.\n",
     "output_type": "error",
     "traceback": [
      "\u001b[0;31m---------------------------------------------------------------------------\u001b[0m",
      "\u001b[0;31mRRuntimeError\u001b[0m                             Traceback (most recent call last)",
      "\u001b[0;32m<ipython-input-55-874e4f24d707>\u001b[0m in \u001b[0;36m<module>\u001b[0;34m\u001b[0m\n\u001b[1;32m     19\u001b[0m     \u001b[0mry_df\u001b[0m \u001b[0;34m=\u001b[0m \u001b[0mro\u001b[0m\u001b[0;34m.\u001b[0m\u001b[0mconversion\u001b[0m\u001b[0;34m.\u001b[0m\u001b[0mpy2rpy\u001b[0m\u001b[0;34m(\u001b[0m\u001b[0my_known_df\u001b[0m\u001b[0;34m.\u001b[0m\u001b[0mvalues\u001b[0m\u001b[0;34m)\u001b[0m\u001b[0;34m\u001b[0m\u001b[0;34m\u001b[0m\u001b[0m\n\u001b[1;32m     20\u001b[0m \u001b[0;34m\u001b[0m\u001b[0m\n\u001b[0;32m---> 21\u001b[0;31m     \u001b[0mrssl\u001b[0m\u001b[0;34m.\u001b[0m\u001b[0mS4VM\u001b[0m\u001b[0;34m(\u001b[0m\u001b[0mX\u001b[0m\u001b[0;34m=\u001b[0m\u001b[0mrX_df\u001b[0m\u001b[0;34m,\u001b[0m \u001b[0my\u001b[0m\u001b[0;34m=\u001b[0m\u001b[0mro\u001b[0m\u001b[0;34m.\u001b[0m\u001b[0mr\u001b[0m\u001b[0;34m[\u001b[0m\u001b[0;34m'as.factor'\u001b[0m\u001b[0;34m]\u001b[0m\u001b[0;34m(\u001b[0m\u001b[0mry_df\u001b[0m\u001b[0;34m)\u001b[0m\u001b[0;34m,\u001b[0m \u001b[0mX_u\u001b[0m\u001b[0;34m=\u001b[0m\u001b[0mrX_unknow\u001b[0m\u001b[0;34m)\u001b[0m\u001b[0;34m\u001b[0m\u001b[0;34m\u001b[0m\u001b[0m\n\u001b[0m",
      "\u001b[0;32m~/Study/ped/yt_trending_videos/venv/lib/python3.8/site-packages/rpy2/robjects/functions.py\u001b[0m in \u001b[0;36m__call__\u001b[0;34m(self, *args, **kwargs)\u001b[0m\n\u001b[1;32m    196\u001b[0m                 \u001b[0mv\u001b[0m \u001b[0;34m=\u001b[0m \u001b[0mkwargs\u001b[0m\u001b[0;34m.\u001b[0m\u001b[0mpop\u001b[0m\u001b[0;34m(\u001b[0m\u001b[0mk\u001b[0m\u001b[0;34m)\u001b[0m\u001b[0;34m\u001b[0m\u001b[0;34m\u001b[0m\u001b[0m\n\u001b[1;32m    197\u001b[0m                 \u001b[0mkwargs\u001b[0m\u001b[0;34m[\u001b[0m\u001b[0mr_k\u001b[0m\u001b[0;34m]\u001b[0m \u001b[0;34m=\u001b[0m \u001b[0mv\u001b[0m\u001b[0;34m\u001b[0m\u001b[0;34m\u001b[0m\u001b[0m\n\u001b[0;32m--> 198\u001b[0;31m         return (super(SignatureTranslatedFunction, self)\n\u001b[0m\u001b[1;32m    199\u001b[0m                 .__call__(*args, **kwargs))\n\u001b[1;32m    200\u001b[0m \u001b[0;34m\u001b[0m\u001b[0m\n",
      "\u001b[0;32m~/Study/ped/yt_trending_videos/venv/lib/python3.8/site-packages/rpy2/robjects/functions.py\u001b[0m in \u001b[0;36m__call__\u001b[0;34m(self, *args, **kwargs)\u001b[0m\n\u001b[1;32m    123\u001b[0m             \u001b[0;32melse\u001b[0m\u001b[0;34m:\u001b[0m\u001b[0;34m\u001b[0m\u001b[0;34m\u001b[0m\u001b[0m\n\u001b[1;32m    124\u001b[0m                 \u001b[0mnew_kwargs\u001b[0m\u001b[0;34m[\u001b[0m\u001b[0mk\u001b[0m\u001b[0;34m]\u001b[0m \u001b[0;34m=\u001b[0m \u001b[0mconversion\u001b[0m\u001b[0;34m.\u001b[0m\u001b[0mpy2rpy\u001b[0m\u001b[0;34m(\u001b[0m\u001b[0mv\u001b[0m\u001b[0;34m)\u001b[0m\u001b[0;34m\u001b[0m\u001b[0;34m\u001b[0m\u001b[0m\n\u001b[0;32m--> 125\u001b[0;31m         \u001b[0mres\u001b[0m \u001b[0;34m=\u001b[0m \u001b[0msuper\u001b[0m\u001b[0;34m(\u001b[0m\u001b[0mFunction\u001b[0m\u001b[0;34m,\u001b[0m \u001b[0mself\u001b[0m\u001b[0;34m)\u001b[0m\u001b[0;34m.\u001b[0m\u001b[0m__call__\u001b[0m\u001b[0;34m(\u001b[0m\u001b[0;34m*\u001b[0m\u001b[0mnew_args\u001b[0m\u001b[0;34m,\u001b[0m \u001b[0;34m**\u001b[0m\u001b[0mnew_kwargs\u001b[0m\u001b[0;34m)\u001b[0m\u001b[0;34m\u001b[0m\u001b[0;34m\u001b[0m\u001b[0m\n\u001b[0m\u001b[1;32m    126\u001b[0m         \u001b[0mres\u001b[0m \u001b[0;34m=\u001b[0m \u001b[0mconversion\u001b[0m\u001b[0;34m.\u001b[0m\u001b[0mrpy2py\u001b[0m\u001b[0;34m(\u001b[0m\u001b[0mres\u001b[0m\u001b[0;34m)\u001b[0m\u001b[0;34m\u001b[0m\u001b[0;34m\u001b[0m\u001b[0m\n\u001b[1;32m    127\u001b[0m         \u001b[0;32mreturn\u001b[0m \u001b[0mres\u001b[0m\u001b[0;34m\u001b[0m\u001b[0;34m\u001b[0m\u001b[0m\n",
      "\u001b[0;32m~/Study/ped/yt_trending_videos/venv/lib/python3.8/site-packages/rpy2/rinterface_lib/conversion.py\u001b[0m in \u001b[0;36m_\u001b[0;34m(*args, **kwargs)\u001b[0m\n\u001b[1;32m     43\u001b[0m \u001b[0;32mdef\u001b[0m \u001b[0m_cdata_res_to_rinterface\u001b[0m\u001b[0;34m(\u001b[0m\u001b[0mfunction\u001b[0m\u001b[0;34m)\u001b[0m\u001b[0;34m:\u001b[0m\u001b[0;34m\u001b[0m\u001b[0;34m\u001b[0m\u001b[0m\n\u001b[1;32m     44\u001b[0m     \u001b[0;32mdef\u001b[0m \u001b[0m_\u001b[0m\u001b[0;34m(\u001b[0m\u001b[0;34m*\u001b[0m\u001b[0margs\u001b[0m\u001b[0;34m,\u001b[0m \u001b[0;34m**\u001b[0m\u001b[0mkwargs\u001b[0m\u001b[0;34m)\u001b[0m\u001b[0;34m:\u001b[0m\u001b[0;34m\u001b[0m\u001b[0;34m\u001b[0m\u001b[0m\n\u001b[0;32m---> 45\u001b[0;31m         \u001b[0mcdata\u001b[0m \u001b[0;34m=\u001b[0m \u001b[0mfunction\u001b[0m\u001b[0;34m(\u001b[0m\u001b[0;34m*\u001b[0m\u001b[0margs\u001b[0m\u001b[0;34m,\u001b[0m \u001b[0;34m**\u001b[0m\u001b[0mkwargs\u001b[0m\u001b[0;34m)\u001b[0m\u001b[0;34m\u001b[0m\u001b[0;34m\u001b[0m\u001b[0m\n\u001b[0m\u001b[1;32m     46\u001b[0m         \u001b[0;31m# TODO: test cdata is of the expected CType\u001b[0m\u001b[0;34m\u001b[0m\u001b[0;34m\u001b[0m\u001b[0;34m\u001b[0m\u001b[0m\n\u001b[1;32m     47\u001b[0m         \u001b[0;32mreturn\u001b[0m \u001b[0m_cdata_to_rinterface\u001b[0m\u001b[0;34m(\u001b[0m\u001b[0mcdata\u001b[0m\u001b[0;34m)\u001b[0m\u001b[0;34m\u001b[0m\u001b[0;34m\u001b[0m\u001b[0m\n",
      "\u001b[0;32m~/Study/ped/yt_trending_videos/venv/lib/python3.8/site-packages/rpy2/rinterface.py\u001b[0m in \u001b[0;36m__call__\u001b[0;34m(self, *args, **kwargs)\u001b[0m\n\u001b[1;32m    678\u001b[0m             )\n\u001b[1;32m    679\u001b[0m             \u001b[0;32mif\u001b[0m \u001b[0merror_occured\u001b[0m\u001b[0;34m[\u001b[0m\u001b[0;36m0\u001b[0m\u001b[0;34m]\u001b[0m\u001b[0;34m:\u001b[0m\u001b[0;34m\u001b[0m\u001b[0;34m\u001b[0m\u001b[0m\n\u001b[0;32m--> 680\u001b[0;31m                 \u001b[0;32mraise\u001b[0m \u001b[0membedded\u001b[0m\u001b[0;34m.\u001b[0m\u001b[0mRRuntimeError\u001b[0m\u001b[0;34m(\u001b[0m\u001b[0m_rinterface\u001b[0m\u001b[0;34m.\u001b[0m\u001b[0m_geterrmessage\u001b[0m\u001b[0;34m(\u001b[0m\u001b[0;34m)\u001b[0m\u001b[0;34m)\u001b[0m\u001b[0;34m\u001b[0m\u001b[0;34m\u001b[0m\u001b[0m\n\u001b[0m\u001b[1;32m    681\u001b[0m         \u001b[0;32mreturn\u001b[0m \u001b[0mres\u001b[0m\u001b[0;34m\u001b[0m\u001b[0;34m\u001b[0m\u001b[0m\n\u001b[1;32m    682\u001b[0m \u001b[0;34m\u001b[0m\u001b[0m\n",
      "\u001b[0;31mRRuntimeError\u001b[0m: Error in PreProcessing(X = X, y = y, X_u = X_u, scale = scale, intercept = FALSE,  : \n  No valid input for X, y and X_u.\n"
     ]
    }
   ],
   "source": [
    "# rssl.S4VM(X_df, y_df)\n",
    "import rpy2.robjects as ro\n",
    "from rpy2.robjects.packages import importr\n",
    "from rpy2.robjects import pandas2ri, numpy2ri, FactorVector, StrVector\n",
    "\n",
    "from rpy2.robjects.conversion import localconverter\n",
    "\n",
    "X_known_df = X_df[mask]\n",
    "X_unknown_df = X_df[~mask]\n",
    "y_known_df = y_df[mask]\n",
    "y_mask = y_known_df >= 24\n",
    "y_known_df[~mask] = 1\n",
    "y_known_df[mask] = 0\n",
    "\n",
    "\n",
    "with localconverter(ro.default_converter + pandas2ri.converter + numpy2ri.converter):\n",
    "    rX_df = ro.conversion.py2rpy(X_known_df.values)\n",
    "    rX_unknow = ro.conversion.py2rpy(X_unknown_df.values)\n",
    "    ry_df = ro.conversion.py2rpy(y_known_df.values)\n",
    "    \n",
    "    rssl.S4VM(X=rX_df, y=ro.r['as.factor'](ry_df), X_u=rX_unknow)"
   ]
  },
  {
   "cell_type": "code",
   "execution_count": null,
   "id": "variable-throat",
   "metadata": {},
   "outputs": [],
   "source": []
  }
 ],
 "metadata": {
  "kernelspec": {
   "display_name": "Python 3.8.5  ('venv': venv)",
   "language": "python",
   "name": "pythonjvsc74a57bd04737e655ced84519817d4d9d5a26f46d61f88b6b26db49e2afa3cac08abb8872"
  },
  "language_info": {
   "codemirror_mode": {
    "name": "ipython",
    "version": 3
   },
   "file_extension": ".py",
   "mimetype": "text/x-python",
   "name": "python",
   "nbconvert_exporter": "python",
   "pygments_lexer": "ipython3",
   "version": "3.8.5"
  }
 },
 "nbformat": 4,
 "nbformat_minor": 5
}
