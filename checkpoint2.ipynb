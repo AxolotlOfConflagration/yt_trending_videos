{
 "metadata": {
  "language_info": {
   "codemirror_mode": {
    "name": "ipython",
    "version": 3
   },
   "file_extension": ".py",
   "mimetype": "text/x-python",
   "name": "python",
   "nbconvert_exporter": "python",
   "pygments_lexer": "ipython3",
   "version": "3.8.0"
  },
  "orig_nbformat": 2,
  "kernelspec": {
   "name": "pytong_moc_38",
   "display_name": "Pytong_moc_38",
   "language": "python"
  }
 },
 "nbformat": 4,
 "nbformat_minor": 2,
 "cells": [
  {
   "cell_type": "code",
   "execution_count": 62,
   "metadata": {},
   "outputs": [],
   "source": [
    "import tensorflow_hub as hub\n",
    "import tensorflow as tf\n",
    "\n",
    "import urllib.request as ur\n",
    "import pandas as pd\n",
    "import numpy as np\n",
    "import pickle\n",
    "import glob\n",
    "import json\n",
    "import ast\n",
    "import re\n",
    "\n",
    "from sklearn.manifold import TSNE\n",
    "from pandas.io.json import json_normalize\n",
    "from utils import read_config\n",
    "from pathlib import Path\n",
    "from copy import deepcopy"
   ]
  },
  {
   "cell_type": "code",
   "execution_count": 3,
   "metadata": {},
   "outputs": [],
   "source": [
    "config = read_config(\"config.json\")\n",
    "config['dataset_path'] = Path(config['dataset_path'])"
   ]
  },
  {
   "cell_type": "code",
   "execution_count": 4,
   "metadata": {},
   "outputs": [
    {
     "output_type": "execute_result",
     "data": {
      "text/plain": [
       "      video_id trending_date  \\\n",
       "0  2kyS6SvSYSE    2017-11-14   \n",
       "1  1ZAPwfrtAFY    2017-11-14   \n",
       "2  5qpjK5DgCt4    2017-11-14   \n",
       "\n",
       "                                               title    channel_title  \\\n",
       "0                 WE WANT TO TALK ABOUT OUR MARRIAGE     CaseyNeistat   \n",
       "1  The Trump Presidency: Last Week Tonight with J...  LastWeekTonight   \n",
       "2  Racist Superman | Rudy Mancuso, King Bach & Le...     Rudy Mancuso   \n",
       "\n",
       "   category_id              publish_time  \\\n",
       "0          NaN 2017-11-13 17:13:01+00:00   \n",
       "1          NaN 2017-11-13 07:30:00+00:00   \n",
       "2          NaN 2017-11-12 19:05:24+00:00   \n",
       "\n",
       "                                                tags    views   likes  \\\n",
       "0                                    SHANtell martin   748374   57527   \n",
       "1  last week tonight trump presidency|\"last week ...  2418783   97185   \n",
       "2  racist superman|\"rudy\"|\"mancuso\"|\"king\"|\"bach\"...  3191434  146033   \n",
       "\n",
       "   dislikes  comment_count                                  thumbnail_link  \\\n",
       "0      2966          15954  https://i.ytimg.com/vi/2kyS6SvSYSE/default.jpg   \n",
       "1      6146          12703  https://i.ytimg.com/vi/1ZAPwfrtAFY/default.jpg   \n",
       "2      5339           8181  https://i.ytimg.com/vi/5qpjK5DgCt4/default.jpg   \n",
       "\n",
       "   comments_disabled  ratings_disabled  video_error_or_removed  \\\n",
       "0              False             False                   False   \n",
       "1              False             False                   False   \n",
       "2              False             False                   False   \n",
       "\n",
       "                                         description origin  \n",
       "0  SHANTELL'S CHANNEL - https://www.youtube.com/s...     US  \n",
       "1  One year after the presidential election, John...     US  \n",
       "2  WATCH MY PREVIOUS VIDEO ▶  SUBSCRIBE ► https:/...     US  "
      ],
      "text/html": "<div>\n<style scoped>\n    .dataframe tbody tr th:only-of-type {\n        vertical-align: middle;\n    }\n\n    .dataframe tbody tr th {\n        vertical-align: top;\n    }\n\n    .dataframe thead th {\n        text-align: right;\n    }\n</style>\n<table border=\"1\" class=\"dataframe\">\n  <thead>\n    <tr style=\"text-align: right;\">\n      <th></th>\n      <th>video_id</th>\n      <th>trending_date</th>\n      <th>title</th>\n      <th>channel_title</th>\n      <th>category_id</th>\n      <th>publish_time</th>\n      <th>tags</th>\n      <th>views</th>\n      <th>likes</th>\n      <th>dislikes</th>\n      <th>comment_count</th>\n      <th>thumbnail_link</th>\n      <th>comments_disabled</th>\n      <th>ratings_disabled</th>\n      <th>video_error_or_removed</th>\n      <th>description</th>\n      <th>origin</th>\n    </tr>\n  </thead>\n  <tbody>\n    <tr>\n      <th>0</th>\n      <td>2kyS6SvSYSE</td>\n      <td>2017-11-14</td>\n      <td>WE WANT TO TALK ABOUT OUR MARRIAGE</td>\n      <td>CaseyNeistat</td>\n      <td>NaN</td>\n      <td>2017-11-13 17:13:01+00:00</td>\n      <td>SHANtell martin</td>\n      <td>748374</td>\n      <td>57527</td>\n      <td>2966</td>\n      <td>15954</td>\n      <td>https://i.ytimg.com/vi/2kyS6SvSYSE/default.jpg</td>\n      <td>False</td>\n      <td>False</td>\n      <td>False</td>\n      <td>SHANTELL'S CHANNEL - https://www.youtube.com/s...</td>\n      <td>US</td>\n    </tr>\n    <tr>\n      <th>1</th>\n      <td>1ZAPwfrtAFY</td>\n      <td>2017-11-14</td>\n      <td>The Trump Presidency: Last Week Tonight with J...</td>\n      <td>LastWeekTonight</td>\n      <td>NaN</td>\n      <td>2017-11-13 07:30:00+00:00</td>\n      <td>last week tonight trump presidency|\"last week ...</td>\n      <td>2418783</td>\n      <td>97185</td>\n      <td>6146</td>\n      <td>12703</td>\n      <td>https://i.ytimg.com/vi/1ZAPwfrtAFY/default.jpg</td>\n      <td>False</td>\n      <td>False</td>\n      <td>False</td>\n      <td>One year after the presidential election, John...</td>\n      <td>US</td>\n    </tr>\n    <tr>\n      <th>2</th>\n      <td>5qpjK5DgCt4</td>\n      <td>2017-11-14</td>\n      <td>Racist Superman | Rudy Mancuso, King Bach &amp; Le...</td>\n      <td>Rudy Mancuso</td>\n      <td>NaN</td>\n      <td>2017-11-12 19:05:24+00:00</td>\n      <td>racist superman|\"rudy\"|\"mancuso\"|\"king\"|\"bach\"...</td>\n      <td>3191434</td>\n      <td>146033</td>\n      <td>5339</td>\n      <td>8181</td>\n      <td>https://i.ytimg.com/vi/5qpjK5DgCt4/default.jpg</td>\n      <td>False</td>\n      <td>False</td>\n      <td>False</td>\n      <td>WATCH MY PREVIOUS VIDEO ▶  SUBSCRIBE ► https:/...</td>\n      <td>US</td>\n    </tr>\n  </tbody>\n</table>\n</div>"
     },
     "metadata": {},
     "execution_count": 4
    }
   ],
   "source": [
    "def load_csv(path, origin):\n",
    "    df = pd.read_csv(path, sep=';', parse_dates=['publish_time'])\n",
    "    df.columns = list(map(str.strip, df.columns))\n",
    "    df['trending_date'] = pd.to_datetime(df.trending_date, format='%y.%d.%m')\n",
    "    df['origin'] = origin\n",
    "    return df\n",
    "\n",
    "\n",
    "us_videos_df = load_csv(config['dataset_path'] / 'US_videos_5p.csv', 'US')\n",
    "gb_videos_df = load_csv(config['dataset_path'] / 'GB_videos_5p_utf8.csv', 'GB')\n",
    "\n",
    "videos_df = pd.concat([us_videos_df, gb_videos_df]).reset_index(drop=True)\n",
    "\n",
    "def load_missing_ids(path):\n",
    "    with open(path, 'rb') as fh:\n",
    "        return{k: v['items'][0]['id']['videoId'] for k, v in pickle.load(fh).items()}\n",
    "\n",
    "us_missing = load_missing_ids(config['dataset_path'] / 'us_missing_id.pkl')\n",
    "gb_missing = load_missing_ids(config['dataset_path'] / 'gb_missing_id.pkl')\n",
    "\n",
    "for (title, channel), idx in {**us_missing, **gb_missing}.items():\n",
    "    videos_df.loc[(videos_df.title == title) & (videos_df.channel_title == channel), 'video_id'] = idx \n",
    "\n",
    "videos_df.head(3)"
   ]
  },
  {
   "cell_type": "code",
   "execution_count": 5,
   "metadata": {},
   "outputs": [
    {
     "output_type": "execute_result",
     "data": {
      "text/plain": [
       "Empty DataFrame\n",
       "Columns: [video_id, trending_date, title, channel_title, category_id, publish_time, tags, views, likes, dislikes, comment_count, thumbnail_link, comments_disabled, ratings_disabled, video_error_or_removed, description, origin]\n",
       "Index: []"
      ],
      "text/html": "<div>\n<style scoped>\n    .dataframe tbody tr th:only-of-type {\n        vertical-align: middle;\n    }\n\n    .dataframe tbody tr th {\n        vertical-align: top;\n    }\n\n    .dataframe thead th {\n        text-align: right;\n    }\n</style>\n<table border=\"1\" class=\"dataframe\">\n  <thead>\n    <tr style=\"text-align: right;\">\n      <th></th>\n      <th>video_id</th>\n      <th>trending_date</th>\n      <th>title</th>\n      <th>channel_title</th>\n      <th>category_id</th>\n      <th>publish_time</th>\n      <th>tags</th>\n      <th>views</th>\n      <th>likes</th>\n      <th>dislikes</th>\n      <th>comment_count</th>\n      <th>thumbnail_link</th>\n      <th>comments_disabled</th>\n      <th>ratings_disabled</th>\n      <th>video_error_or_removed</th>\n      <th>description</th>\n      <th>origin</th>\n    </tr>\n  </thead>\n  <tbody>\n  </tbody>\n</table>\n</div>"
     },
     "metadata": {},
     "execution_count": 5
    }
   ],
   "source": [
    "videos_df[videos_df.video_id == '#NAZWA?']"
   ]
  },
  {
   "cell_type": "code",
   "execution_count": 6,
   "metadata": {},
   "outputs": [
    {
     "output_type": "stream",
     "name": "stdout",
     "text": [
      "(8610, 1)\n"
     ]
    },
    {
     "output_type": "execute_result",
     "data": {
      "text/plain": [
       "                                             thumbnail_link\n",
       "video_id                                                   \n",
       "2kyS6SvSYSE  https://i.ytimg.com/vi/2kyS6SvSYSE/default.jpg\n",
       "1ZAPwfrtAFY  https://i.ytimg.com/vi/1ZAPwfrtAFY/default.jpg\n",
       "5qpjK5DgCt4  https://i.ytimg.com/vi/5qpjK5DgCt4/default.jpg"
      ],
      "text/html": "<div>\n<style scoped>\n    .dataframe tbody tr th:only-of-type {\n        vertical-align: middle;\n    }\n\n    .dataframe tbody tr th {\n        vertical-align: top;\n    }\n\n    .dataframe thead th {\n        text-align: right;\n    }\n</style>\n<table border=\"1\" class=\"dataframe\">\n  <thead>\n    <tr style=\"text-align: right;\">\n      <th></th>\n      <th>thumbnail_link</th>\n    </tr>\n    <tr>\n      <th>video_id</th>\n      <th></th>\n    </tr>\n  </thead>\n  <tbody>\n    <tr>\n      <th>2kyS6SvSYSE</th>\n      <td>https://i.ytimg.com/vi/2kyS6SvSYSE/default.jpg</td>\n    </tr>\n    <tr>\n      <th>1ZAPwfrtAFY</th>\n      <td>https://i.ytimg.com/vi/1ZAPwfrtAFY/default.jpg</td>\n    </tr>\n    <tr>\n      <th>5qpjK5DgCt4</th>\n      <td>https://i.ytimg.com/vi/5qpjK5DgCt4/default.jpg</td>\n    </tr>\n  </tbody>\n</table>\n</div>"
     },
     "metadata": {},
     "execution_count": 6
    }
   ],
   "source": [
    "videos_df = videos_df[['video_id', 'thumbnail_link']]\n",
    "videos_df.drop_duplicates(inplace=True)\n",
    "videos_df.set_index('video_id', inplace=True)\n",
    "print(videos_df.shape)\n",
    "videos_df.head(3)"
   ]
  },
  {
   "source": [
    "### Download images"
   ],
   "cell_type": "markdown",
   "metadata": {}
  },
  {
   "source": [
    "Wyjątki - Są to filmy, które nie są dostępne (np. są prywatne), przykładem kanału z takim filmem jest The View, który postuje filmy z różnych programów telewizyjnych. Takie filmy mogą być obiektem roszczeń o prawa autorskie, pomimo tego, że były trending i ich thumbnaile będą niedostępne."
   ],
   "cell_type": "markdown",
   "metadata": {}
  },
  {
   "cell_type": "code",
   "execution_count": 7,
   "metadata": {
    "tags": []
   },
   "outputs": [],
   "source": [
    "# count_unknown = 0\n",
    "# for index, row in videos_df.iterrows():\n",
    "#     path = config['dataset_path'] / 'images/{}.jpg'.format(row['video_id'])\n",
    "#     link = re.sub(r'(default)', r'hq\\1', row['thumbnail_link'])\n",
    "#     try:\n",
    "#         ur.urlretrieve(link, path)\n",
    "#     except:\n",
    "#         \n",
    "#         count_unknown += 1\n",
    "# count_unknown"
   ]
  },
  {
   "source": [
    "### Thumbnail embedding"
   ],
   "cell_type": "markdown",
   "metadata": {}
  },
  {
   "cell_type": "code",
   "execution_count": 32,
   "metadata": {},
   "outputs": [],
   "source": [
    "videos_df_temp = deepcopy(videos_df.head(5))\n",
    "\n",
    "def mod_img(func, colname='', max_dim=512, *args):\n",
    "    # images = [str(p) for p in Path('data/images/').glob('*.jpg')]\n",
    "    count=0\n",
    "    col_val_list = []\n",
    "    for index, row in videos_df.iterrows():\n",
    "        print(count)\n",
    "        count+=1\n",
    "        if count > 5: break # test\n",
    "        # Read img\n",
    "        try:\n",
    "            img = tf.io.read_file('data/images/{}.jpg'.format(index))\n",
    "            img = tf.image.decode_image(img, channels=3)\n",
    "            # Preprocess img (scale to max_dim)\n",
    "            img = tf.image.convert_image_dtype(img, tf.float32)\n",
    "            shape = tf.cast(tf.shape(img)[:-1], tf.float32)\n",
    "            new_shape = tf.cast(shape * (max_dim / max(shape)), tf.int32) # shape * scale\n",
    "            img = tf.image.resize(img, new_shape)\n",
    "            img = img[tf.newaxis, :]\n",
    "            # Apply function - TODO modification for list of functions\n",
    "            col_val_list.append(func(img, *args))\n",
    "        except UnicodeDecodeError:\n",
    "            col_val_list.append(np.NaN)\n",
    "    # Add to dataframe\n",
    "    videos_df_temp[colname] = col_val_list"
   ]
  },
  {
   "source": [
    "![](https://1.bp.blogspot.com/-oNSfIOzO8ko/XO3BtHnUx0I/AAAAAAAAEKk/rJ2tHovGkzsyZnCbwVad-Q3ZBnwQmCFsgCEwYBhgL/s640/image3.png)"
   ],
   "cell_type": "markdown",
   "metadata": {}
  },
  {
   "cell_type": "code",
   "execution_count": 16,
   "metadata": {},
   "outputs": [],
   "source": [
    "feature_ex_model = hub.load(\"https://tfhub.dev/tensorflow/efficientnet/b7/feature-vector/1\")"
   ]
  },
  {
   "cell_type": "code",
   "execution_count": 49,
   "metadata": {},
   "outputs": [
    {
     "output_type": "stream",
     "name": "stdout",
     "text": [
      "0\n",
      "1\n",
      "2\n",
      "3\n",
      "4\n",
      "5\n"
     ]
    },
    {
     "output_type": "execute_result",
     "data": {
      "text/plain": [
       "                                             thumbnail_link  \\\n",
       "video_id                                                      \n",
       "2kyS6SvSYSE  https://i.ytimg.com/vi/2kyS6SvSYSE/default.jpg   \n",
       "1ZAPwfrtAFY  https://i.ytimg.com/vi/1ZAPwfrtAFY/default.jpg   \n",
       "5qpjK5DgCt4  https://i.ytimg.com/vi/5qpjK5DgCt4/default.jpg   \n",
       "\n",
       "                                                feature_vector  \n",
       "video_id                                                        \n",
       "2kyS6SvSYSE  [0.038101573, -0.07571, 0.0931569, -0.10862432...  \n",
       "1ZAPwfrtAFY  [0.10854018, 0.076120146, 0.24488439, -0.13733...  \n",
       "5qpjK5DgCt4                                                NaN  "
      ],
      "text/html": "<div>\n<style scoped>\n    .dataframe tbody tr th:only-of-type {\n        vertical-align: middle;\n    }\n\n    .dataframe tbody tr th {\n        vertical-align: top;\n    }\n\n    .dataframe thead th {\n        text-align: right;\n    }\n</style>\n<table border=\"1\" class=\"dataframe\">\n  <thead>\n    <tr style=\"text-align: right;\">\n      <th></th>\n      <th>thumbnail_link</th>\n      <th>feature_vector</th>\n    </tr>\n    <tr>\n      <th>video_id</th>\n      <th></th>\n      <th></th>\n    </tr>\n  </thead>\n  <tbody>\n    <tr>\n      <th>2kyS6SvSYSE</th>\n      <td>https://i.ytimg.com/vi/2kyS6SvSYSE/default.jpg</td>\n      <td>[0.038101573, -0.07571, 0.0931569, -0.10862432...</td>\n    </tr>\n    <tr>\n      <th>1ZAPwfrtAFY</th>\n      <td>https://i.ytimg.com/vi/1ZAPwfrtAFY/default.jpg</td>\n      <td>[0.10854018, 0.076120146, 0.24488439, -0.13733...</td>\n    </tr>\n    <tr>\n      <th>5qpjK5DgCt4</th>\n      <td>https://i.ytimg.com/vi/5qpjK5DgCt4/default.jpg</td>\n      <td>NaN</td>\n    </tr>\n  </tbody>\n</table>\n</div>"
     },
     "metadata": {},
     "execution_count": 49
    }
   ],
   "source": [
    "def fv_func(img, *args):\n",
    "    return np.squeeze(feature_ex_model(img).numpy())\n",
    "\n",
    "mod_img(fv_func, colname='feature_vector')\n",
    "videos_df_temp.head(3)"
   ]
  },
  {
   "cell_type": "code",
   "execution_count": 50,
   "metadata": {},
   "outputs": [],
   "source": [
    "tensor = videos_df_temp['feature_vector'].values"
   ]
  },
  {
   "cell_type": "code",
   "execution_count": 54,
   "metadata": {},
   "outputs": [
    {
     "output_type": "execute_result",
     "data": {
      "text/plain": [
       "array([array([ 0.03810157, -0.07571   ,  0.0931569 , ...,  0.04092859,\n",
       "        0.07770374, -0.12705919], dtype=float32),\n",
       "       array([ 0.10854018,  0.07612015,  0.24488439, ...,  0.25569355,\n",
       "        0.00531475, -0.14011018], dtype=float32),\n",
       "       nan,\n",
       "       array([0.0579176 , 0.30172202, 0.564285  , ..., 0.07848703, 0.13500798,\n",
       "       0.24005534], dtype=float32),\n",
       "       array([ 0.5283228 ,  0.19460933,  0.42413977, ...,  0.08944044,\n",
       "       -0.0156542 , -0.08639332], dtype=float32)], dtype=object)"
      ]
     },
     "metadata": {},
     "execution_count": 54
    }
   ],
   "source": [
    "tensor"
   ]
  },
  {
   "source": [
    "### t-SNE projection"
   ],
   "cell_type": "markdown",
   "metadata": {}
  },
  {
   "cell_type": "code",
   "execution_count": 60,
   "metadata": {},
   "outputs": [
    {
     "output_type": "execute_result",
     "data": {
      "text/plain": [
       "(4, 2560)"
      ]
     },
     "metadata": {},
     "execution_count": 60
    }
   ],
   "source": [
    "tsne_temp = videos_df_temp['feature_vector'].dropna().values\n",
    "tsne_temp = np.stack(tsne_temp, axis=0)\n",
    "tsne_temp.shape"
   ]
  },
  {
   "cell_type": "code",
   "execution_count": 61,
   "metadata": {},
   "outputs": [
    {
     "output_type": "execute_result",
     "data": {
      "text/plain": [
       "array([[ 0.03810157, -0.07571   ,  0.0931569 , ...,  0.04092859,\n",
       "         0.07770374, -0.12705919],\n",
       "       [ 0.10854018,  0.07612015,  0.24488439, ...,  0.25569355,\n",
       "         0.00531475, -0.14011018],\n",
       "       [ 0.0579176 ,  0.30172202,  0.564285  , ...,  0.07848703,\n",
       "         0.13500798,  0.24005534],\n",
       "       [ 0.5283228 ,  0.19460933,  0.42413977, ...,  0.08944044,\n",
       "        -0.0156542 , -0.08639332]], dtype=float32)"
      ]
     },
     "metadata": {},
     "execution_count": 61
    }
   ],
   "source": [
    "tsne_temp"
   ]
  },
  {
   "cell_type": "code",
   "execution_count": 63,
   "metadata": {},
   "outputs": [
    {
     "output_type": "stream",
     "name": "stdout",
     "text": [
      "[t-SNE] Computing 3 nearest neighbors...\n[t-SNE] Indexed 4 samples in 0.000s...\n[t-SNE] Computed neighbors for 4 samples in 0.002s...\n[t-SNE] Computed conditional probabilities for sample 4 / 4\n[t-SNE] Mean sigma: 1125899906842624.000000\n[t-SNE] KL divergence after 250 iterations with early exaggeration: 45.041618\n[t-SNE] KL divergence after 400 iterations: 0.048725\n"
     ]
    }
   ],
   "source": [
    "tsne = TSNE(n_components=2, verbose=1).fit_transform(tsne_temp)"
   ]
  },
  {
   "cell_type": "code",
   "execution_count": null,
   "metadata": {},
   "outputs": [],
   "source": [
    "cmap = cm.get_cmap('tab20')\n",
    "fig, ax = plt.subplots(figsize=(8,8))\n",
    "num_categories = 10\n",
    "for lab in range(num_categories):\n",
    "    indices = test_predictions==lab\n",
    "    ax.scatter(tsne_proj[indices,0],tsne_proj[indices,1], c=np.array(cmap(lab)).reshape(1,4), label = lab ,alpha=0.5)\n",
    "ax.legend(fontsize='large', markerscale=2)\n",
    "plt.show()"
   ]
  }
 ]
}